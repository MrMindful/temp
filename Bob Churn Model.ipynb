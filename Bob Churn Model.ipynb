{
 "cells": [
  {
   "cell_type": "markdown",
   "metadata": {},
   "source": [
    "## Import Data"
   ]
  },
  {
   "cell_type": "code",
   "execution_count": 1,
   "metadata": {
    "collapsed": false
   },
   "outputs": [
    {
     "data": {
      "text/html": [
       "<table>\n",
       "<thead><tr><th scope=col>subscriber_key</th><th scope=col>report_period_m_cd</th><th scope=col>tenure_mobile</th><th scope=col>price_plan_age</th><th scope=col>priv_cust_seg_txt</th><th scope=col>usg_mv_ib_a_1m_sum</th><th scope=col>usg_md_ib_mb_1m_sum</th><th scope=col>usg_md_sms_ib_a_1m_sum</th><th scope=col>rev_mobile_act_revenue_1m_sum</th><th scope=col>rev_mobile_act_revenue_6m_avg</th><th scope=col>...</th><th scope=col>distinct_partner_omob_1m_sum</th><th scope=col>distinct_partner_00_1m_sum</th><th scope=col>distinct_partner_sp_1m_sum</th><th scope=col>top_partner_mk_6m_cnt</th><th scope=col>t_LV_Cnt</th><th scope=col>t_bobtarife_pay_per_use</th><th scope=col>t_act_rev_1m_GT_10_EUR</th><th scope=col>t_mit_ohne_GE_10EUR_ja_nein</th><th scope=col>t_Age</th><th scope=col>t_LVA_Cnt_GT0</th></tr></thead>\n",
       "<tbody>\n",
       "\t<tr><td>200420271       </td><td>201609          </td><td>2519            </td><td> 532            </td><td>NA              </td><td>26.4333         </td><td>23.4983         </td><td>0               </td><td>8.04            </td><td> 8.2667         </td><td>...             </td><td>5               </td><td>10              </td><td> 2              </td><td>2               </td><td>a_0             </td><td>0               </td><td>0               </td><td>d_mitGE_LE10EUR </td><td>d_51-65         </td><td>0               </td></tr>\n",
       "\t<tr><td>206276753       </td><td>201607          </td><td> 228            </td><td> 221            </td><td>NA              </td><td> 0.0000         </td><td> 0.0000         </td><td>0               </td><td>0.00            </td><td> 0.0650         </td><td>...             </td><td>0               </td><td> 0              </td><td> 0              </td><td>0               </td><td>a_0             </td><td>1               </td><td>0               </td><td>b_keinGE_LE10EUR</td><td>d_51-65         </td><td>0               </td></tr>\n",
       "\t<tr><td>205985597       </td><td>201607          </td><td>1777            </td><td>1740            </td><td>NA              </td><td> 0.0000         </td><td> 0.0000         </td><td>0               </td><td>0.00            </td><td> 0.0000         </td><td>...             </td><td>0               </td><td> 0              </td><td> 0              </td><td>0               </td><td>a_0             </td><td>1               </td><td>0               </td><td>b_keinGE_LE10EUR</td><td>e_65+           </td><td>0               </td></tr>\n",
       "\t<tr><td>200481508       </td><td>201609          </td><td>2407            </td><td>2395            </td><td>NA              </td><td>45.5833         </td><td> 0.0000         </td><td>0               </td><td>3.76            </td><td> 2.6683         </td><td>...             </td><td>2               </td><td>10              </td><td> 3              </td><td>6               </td><td>a_0             </td><td>1               </td><td>0               </td><td>b_keinGE_LE10EUR</td><td>d_51-65         </td><td>0               </td></tr>\n",
       "\t<tr><td>200161375       </td><td>201609          </td><td>3084            </td><td>3081            </td><td>NA              </td><td> 0.0000         </td><td> 0.0000         </td><td>1               </td><td>0.06            </td><td> 0.2567         </td><td>...             </td><td>0               </td><td> 0              </td><td> 0              </td><td>0               </td><td>a_0             </td><td>1               </td><td>0               </td><td>b_keinGE_LE10EUR</td><td>d_51-65         </td><td>0               </td></tr>\n",
       "\t<tr><td>200287336       </td><td>201607          </td><td>2833            </td><td>2791            </td><td>NA              </td><td>93.5167         </td><td> 0.0000         </td><td>0               </td><td>7.71            </td><td>10.7217         </td><td>...             </td><td>1               </td><td>37              </td><td>13              </td><td>6               </td><td>a_0             </td><td>1               </td><td>0               </td><td>b_keinGE_LE10EUR</td><td>d_51-65         </td><td>0               </td></tr>\n",
       "</tbody>\n",
       "</table>\n"
      ],
      "text/latex": [
       "\\begin{tabular}{r|lllllllllllllllllllllllllllllllllllllllllllllllllllllllllllllllllll}\n",
       " subscriber\\_key & report\\_period\\_m\\_cd & tenure\\_mobile & price\\_plan\\_age & priv\\_cust\\_seg\\_txt & usg\\_mv\\_ib\\_a\\_1m\\_sum & usg\\_md\\_ib\\_mb\\_1m\\_sum & usg\\_md\\_sms\\_ib\\_a\\_1m\\_sum & rev\\_mobile\\_act\\_revenue\\_1m\\_sum & rev\\_mobile\\_act\\_revenue\\_6m\\_avg & ... & distinct\\_partner\\_omob\\_1m\\_sum & distinct\\_partner\\_00\\_1m\\_sum & distinct\\_partner\\_sp\\_1m\\_sum & top\\_partner\\_mk\\_6m\\_cnt & t\\_LV\\_Cnt & t\\_bobtarife\\_pay\\_per\\_use & t\\_act\\_rev\\_1m\\_GT\\_10\\_EUR & t\\_mit\\_ohne\\_GE\\_10EUR\\_ja\\_nein & t\\_Age & t\\_LVA\\_Cnt\\_GT0\\\\\n",
       "\\hline\n",
       "\t 200420271            & 201609               & 2519                 &  532                 & NA                   & 26.4333              & 23.4983              & 0                    & 8.04                 &  8.2667              & ...                  & 5                    & 10                   &  2                   & 2                    & a\\_0                & 0                    & 0                    & d\\_mitGE\\_LE10EUR  & d\\_51-65            & 0                   \\\\\n",
       "\t 206276753            & 201607               &  228                 &  221                 & NA                   &  0.0000              &  0.0000              & 0                    & 0.00                 &  0.0650              & ...                  & 0                    &  0                   &  0                   & 0                    & a\\_0                & 1                    & 0                    & b\\_keinGE\\_LE10EUR & d\\_51-65            & 0                   \\\\\n",
       "\t 205985597            & 201607               & 1777                 & 1740                 & NA                   &  0.0000              &  0.0000              & 0                    & 0.00                 &  0.0000              & ...                  & 0                    &  0                   &  0                   & 0                    & a\\_0                & 1                    & 0                    & b\\_keinGE\\_LE10EUR & e\\_65+              & 0                   \\\\\n",
       "\t 200481508            & 201609               & 2407                 & 2395                 & NA                   & 45.5833              &  0.0000              & 0                    & 3.76                 &  2.6683              & ...                  & 2                    & 10                   &  3                   & 6                    & a\\_0                & 1                    & 0                    & b\\_keinGE\\_LE10EUR & d\\_51-65            & 0                   \\\\\n",
       "\t 200161375            & 201609               & 3084                 & 3081                 & NA                   &  0.0000              &  0.0000              & 1                    & 0.06                 &  0.2567              & ...                  & 0                    &  0                   &  0                   & 0                    & a\\_0                & 1                    & 0                    & b\\_keinGE\\_LE10EUR & d\\_51-65            & 0                   \\\\\n",
       "\t 200287336            & 201607               & 2833                 & 2791                 & NA                   & 93.5167              &  0.0000              & 0                    & 7.71                 & 10.7217              & ...                  & 1                    & 37                   & 13                   & 6                    & a\\_0                & 1                    & 0                    & b\\_keinGE\\_LE10EUR & d\\_51-65            & 0                   \\\\\n",
       "\\end{tabular}\n"
      ],
      "text/markdown": [
       "\n",
       "subscriber_key | report_period_m_cd | tenure_mobile | price_plan_age | priv_cust_seg_txt | usg_mv_ib_a_1m_sum | usg_md_ib_mb_1m_sum | usg_md_sms_ib_a_1m_sum | rev_mobile_act_revenue_1m_sum | rev_mobile_act_revenue_6m_avg | ... | distinct_partner_omob_1m_sum | distinct_partner_00_1m_sum | distinct_partner_sp_1m_sum | top_partner_mk_6m_cnt | t_LV_Cnt | t_bobtarife_pay_per_use | t_act_rev_1m_GT_10_EUR | t_mit_ohne_GE_10EUR_ja_nein | t_Age | t_LVA_Cnt_GT0 | \n",
       "|---|---|---|---|---|---|\n",
       "| 200420271        | 201609           | 2519             |  532             | NA               | 26.4333          | 23.4983          | 0                | 8.04             |  8.2667          | ...              | 5                | 10               |  2               | 2                | a_0              | 0                | 0                | d_mitGE_LE10EUR  | d_51-65          | 0                | \n",
       "| 206276753        | 201607           |  228             |  221             | NA               |  0.0000          |  0.0000          | 0                | 0.00             |  0.0650          | ...              | 0                |  0               |  0               | 0                | a_0              | 1                | 0                | b_keinGE_LE10EUR | d_51-65          | 0                | \n",
       "| 205985597        | 201607           | 1777             | 1740             | NA               |  0.0000          |  0.0000          | 0                | 0.00             |  0.0000          | ...              | 0                |  0               |  0               | 0                | a_0              | 1                | 0                | b_keinGE_LE10EUR | e_65+            | 0                | \n",
       "| 200481508        | 201609           | 2407             | 2395             | NA               | 45.5833          |  0.0000          | 0                | 3.76             |  2.6683          | ...              | 2                | 10               |  3               | 6                | a_0              | 1                | 0                | b_keinGE_LE10EUR | d_51-65          | 0                | \n",
       "| 200161375        | 201609           | 3084             | 3081             | NA               |  0.0000          |  0.0000          | 1                | 0.06             |  0.2567          | ...              | 0                |  0               |  0               | 0                | a_0              | 1                | 0                | b_keinGE_LE10EUR | d_51-65          | 0                | \n",
       "| 200287336        | 201607           | 2833             | 2791             | NA               | 93.5167          |  0.0000          | 0                | 7.71             | 10.7217          | ...              | 1                | 37               | 13               | 6                | a_0              | 1                | 0                | b_keinGE_LE10EUR | d_51-65          | 0                | \n",
       "\n",
       "\n"
      ],
      "text/plain": [
       "  subscriber_key report_period_m_cd tenure_mobile price_plan_age\n",
       "1 200420271      201609             2519           532          \n",
       "2 206276753      201607              228           221          \n",
       "3 205985597      201607             1777          1740          \n",
       "4 200481508      201609             2407          2395          \n",
       "5 200161375      201609             3084          3081          \n",
       "6 200287336      201607             2833          2791          \n",
       "  priv_cust_seg_txt usg_mv_ib_a_1m_sum usg_md_ib_mb_1m_sum\n",
       "1 NA                26.4333            23.4983            \n",
       "2 NA                 0.0000             0.0000            \n",
       "3 NA                 0.0000             0.0000            \n",
       "4 NA                45.5833             0.0000            \n",
       "5 NA                 0.0000             0.0000            \n",
       "6 NA                93.5167             0.0000            \n",
       "  usg_md_sms_ib_a_1m_sum rev_mobile_act_revenue_1m_sum\n",
       "1 0                      8.04                         \n",
       "2 0                      0.00                         \n",
       "3 0                      0.00                         \n",
       "4 0                      3.76                         \n",
       "5 1                      0.06                         \n",
       "6 0                      7.71                         \n",
       "  rev_mobile_act_revenue_6m_avg ... distinct_partner_omob_1m_sum\n",
       "1  8.2667                       ... 5                           \n",
       "2  0.0650                       ... 0                           \n",
       "3  0.0000                       ... 0                           \n",
       "4  2.6683                       ... 2                           \n",
       "5  0.2567                       ... 0                           \n",
       "6 10.7217                       ... 1                           \n",
       "  distinct_partner_00_1m_sum distinct_partner_sp_1m_sum top_partner_mk_6m_cnt\n",
       "1 10                          2                         2                    \n",
       "2  0                          0                         0                    \n",
       "3  0                          0                         0                    \n",
       "4 10                          3                         6                    \n",
       "5  0                          0                         0                    \n",
       "6 37                         13                         6                    \n",
       "  t_LV_Cnt t_bobtarife_pay_per_use t_act_rev_1m_GT_10_EUR\n",
       "1 a_0      0                       0                     \n",
       "2 a_0      1                       0                     \n",
       "3 a_0      1                       0                     \n",
       "4 a_0      1                       0                     \n",
       "5 a_0      1                       0                     \n",
       "6 a_0      1                       0                     \n",
       "  t_mit_ohne_GE_10EUR_ja_nein t_Age   t_LVA_Cnt_GT0\n",
       "1 d_mitGE_LE10EUR             d_51-65 0            \n",
       "2 b_keinGE_LE10EUR            d_51-65 0            \n",
       "3 b_keinGE_LE10EUR            e_65+   0            \n",
       "4 b_keinGE_LE10EUR            d_51-65 0            \n",
       "5 b_keinGE_LE10EUR            d_51-65 0            \n",
       "6 b_keinGE_LE10EUR            d_51-65 0            "
      ]
     },
     "metadata": {},
     "output_type": "display_data"
    }
   ],
   "source": [
    "library(data.table)\n",
    "data <- data.table(read.delim(file = \"20170315_SCHBV_201606_09_1MLatency_3MChurn\"))\n",
    "head(data)"
   ]
  },
  {
   "cell_type": "code",
   "execution_count": 2,
   "metadata": {
    "collapsed": true
   },
   "outputs": [],
   "source": [
    "repr_html.data.table <- function(obj, ...)\n",
    "    if (data.table::shouldPrint(obj))\n",
    "        NextMethod()\n",
    "\n",
    "repr_latex.data.table <- function(obj, ...)\n",
    "    if (data.table::shouldPrint(obj))\n",
    "        NextMethod()    \n",
    "        \n",
    "repr_text.data.table <- function(obj, ...)\n",
    "    if (data.table::shouldPrint(obj))\n",
    "        NextMethod()         "
   ]
  },
  {
   "cell_type": "code",
   "execution_count": 3,
   "metadata": {
    "collapsed": true
   },
   "outputs": [],
   "source": [
    "library(ggplot2)\n",
    "options(jupyter.plot_mimetypes = 'image/png') #shows plots within the notebook\n",
    "\n",
    "library(repr)\n",
    "options(repr.plot.width=6, repr.plot.height=5) # Change plot size to 6 x 5"
   ]
  },
  {
   "cell_type": "markdown",
   "metadata": {},
   "source": [
    "## Structure of data"
   ]
  },
  {
   "cell_type": "code",
   "execution_count": 4,
   "metadata": {
    "collapsed": false
   },
   "outputs": [
    {
     "name": "stdout",
     "output_type": "stream",
     "text": [
      "Classes 'data.table' and 'data.frame':\t1105691 obs. of  67 variables:\n",
      " $ subscriber_key               : int  200420271 206276753 205985597 200481508 200161375 200287336 206062862 200442070 200296390 200177607 ...\n",
      " $ report_period_m_cd           : int  201609 201607 201607 201609 201609 201607 201607 201609 201609 201607 ...\n",
      " $ tenure_mobile                : int  2519 228 1777 2407 3084 2833 2621 2468 2838 2956 ...\n",
      " $ price_plan_age               : int  532 221 1740 2395 3081 2791 89 1382 1465 2946 ...\n",
      " $ priv_cust_seg_txt            : logi  NA NA NA NA NA NA ...\n",
      " $ usg_mv_ib_a_1m_sum           : num  26.4 0 0 45.6 0 ...\n",
      " $ usg_md_ib_mb_1m_sum          : num  23.5 0 0 0 0 ...\n",
      " $ usg_md_sms_ib_a_1m_sum       : int  0 0 0 0 1 0 9 25 5 4 ...\n",
      " $ rev_mobile_act_revenue_1m_sum: num  8.04 0 0 3.76 0.06 7.71 18.4 9.67 9.67 8.55 ...\n",
      " $ rev_mobile_act_revenue_6m_avg: num  8.267 0.065 0 2.668 0.257 ...\n",
      " $ device_os_cd                 : Factor w/ 25 levels \"\",\"Android\",\"Bada\",..: 2 6 1 2 1 10 6 6 2 2 ...\n",
      " $ device_brand_cd              : Factor w/ 243 levels \"\",\"2K\",\"2N\",\"4Machine\",..: 162 11 1 162 114 142 11 11 99 162 ...\n",
      " $ is_smart_phone_yn            : Factor w/ 2 levels \"N\",\"Y\": 2 2 1 2 1 1 2 2 2 2 ...\n",
      " $ rev_mobile_act_revenue_3m_avg: num  8.247 0.13 0 2.783 0.133 ...\n",
      " $ distinct_partner_1m_sum      : int  10 0 0 10 0 37 8 19 10 15 ...\n",
      " $ price_plan_txt               : Factor w/ 18 levels \"big bob\",\"bob balkan\",..: 11 7 7 7 7 7 17 14 10 7 ...\n",
      " $ is_smartphone_tariff_yn      : Factor w/ 2 levels \"N\",\"Y\": 2 1 1 1 1 1 2 2 2 1 ...\n",
      " $ Seg_Cd                       : Factor w/ 11 levels \"AM\",\"CA\",\"CAM\",..: 10 10 10 10 10 10 10 10 10 10 ...\n",
      " $ Age                          : int  61 55 76 57 63 53 18 49 49 42 ...\n",
      " $ Gender_Cd                    : Factor w/ 3 levels \"\",\"F\",\"M\": 2 3 3 2 2 3 3 2 3 3 ...\n",
      " $ province_cd                  : Factor w/ 10 levels \"\",\"B\",\"K\",\"NÃ\",..: 4 9 8 5 4 4 4 4 10 3 ...\n",
      " $ census_population_cnt        : int  1331 19739 6046 6092 3814 1244 2057 6550 86331 NA ...\n",
      " $ census_population_cd         : Factor w/ 6 levels \"\",\"2.000 bis 5.000 EW\",..: 4 3 3 3 2 4 2 3 5 4 ...\n",
      " $ no_data_usage_ind            : int  0 0 0 0 0 0 0 0 0 0 ...\n",
      " $ target_ind                   : int  0 0 0 0 0 0 0 0 0 0 ...\n",
      " $ HV_Cnt                       : int  0 0 0 0 0 0 0 0 0 0 ...\n",
      " $ HV_Days                      : int  0 0 0 0 0 0 0 0 0 0 ...\n",
      " $ LV_Cnt                       : int  0 0 0 0 0 0 0 0 0 0 ...\n",
      " $ LV_Days                      : int  0 0 0 0 0 0 0 0 0 0 ...\n",
      " $ FX_CNT                       : int  0 0 0 0 0 0 0 0 0 0 ...\n",
      " $ FX_Days                      : int  0 0 0 0 0 0 0 0 0 0 ...\n",
      " $ LVA_Cnt                      : int  0 0 0 0 0 0 1 0 0 0 ...\n",
      " $ LVA_Days                     : int  0 0 0 0 0 0 88 0 0 0 ...\n",
      " $ activation_dat               : Factor w/ 3743 levels \"2006-07-03\",\"2006-07-04\",..: 1224 3454 1905 1336 659 849 1061 1275 905 726 ...\n",
      " $ price_plan_cd                : Factor w/ 27 levels \"PRCBOB\",\"PRCBOB10\",..: 17 8 2 24 24 24 18 13 10 24 ...\n",
      " $ price_plan_activation_dat    : Factor w/ 3731 levels \"2006-07-03\",\"2006-07-05\",..: 3199 3448 1930 1340 656 883 3580 2350 2267 728 ...\n",
      " $ used_handset_key             : int  52626 2035 0 63440 14965 10823 70207 55933 68880 53472 ...\n",
      " $ sim_age                      : int  61 55 76 57 63 53 18 49 49 42 ...\n",
      " $ subscriber_inactive          : Factor w/ 2 levels \"N\",\"Y\": 1 1 2 1 1 1 1 1 1 1 ...\n",
      " $ combi_cd                     : Factor w/ 2 levels \"Unknown\",\"UNKNOWN\": 1 1 1 2 2 2 1 1 1 2 ...\n",
      " $ adv_key                      : int  0 7 0 0 7 0 7 0 7 0 ...\n",
      " $ usg_mv_ib_a_a1_1m_sum        : num  4.1 0 0 15.6 0 ...\n",
      " $ usg_mv_ib_a_bob_1m_sum       : num  2.37 0 0 15.62 0 ...\n",
      " $ usg_mv_ib_a_omob_tm_1m_sum   : num  1.65 0 0 0 0 ...\n",
      " $ usg_mv_ib_a_omob_tr_1m_sum   : num  0 0 0 0 0 ...\n",
      " $ usg_mv_ib_a_omob_or_1m_sum   : num  0 0 0 0 0 ...\n",
      " $ usg_mv_ib_a_omob_hu_1m_sum   : num  7.88 0 0 12.15 0 ...\n",
      " $ usg_mv_ib_a_omob_rest_1m_sum : num  0 0 0 0 0 0 0 1.3 -0.0001 0.0001 ...\n",
      " $ usg_mv_ib_a_national_1m_sum  : num  3.98 0 0 6.9 0 ...\n",
      " $ usg_mv_ib_a_internat_1m_sum  : num  0 0 0 1.7 0 0 0 0 0 0 ...\n",
      " $ usg_mv_ob_a_1m_sum           : num  0 0 0 0 0 ...\n",
      " $ usg_mv_ob_p_1m_sum           : num  0 0 0 0 0 ...\n",
      " $ usg_md_ob_mb_1m_sum          : num  0 0 0 0 0 0 0.0814 0 0 0 ...\n",
      " $ charge_usage_ratio           : num  0 0 0 1 1 ...\n",
      " $ distinct_partner_A1_1m_sum   : int  0 0 0 1 0 16 1 7 1 7 ...\n",
      " $ distinct_partner_bob_1m_sum  : int  2 0 0 3 0 5 3 3 2 0 ...\n",
      " $ distinct_partner_rbm_1m_sum  : int  0 0 0 0 0 0 0 0 0 0 ...\n",
      " $ distinct_partner_omob_1m_sum : int  5 0 0 2 0 1 3 4 3 8 ...\n",
      " $ distinct_partner_00_1m_sum   : int  10 0 0 10 0 37 8 19 10 15 ...\n",
      " $ distinct_partner_sp_1m_sum   : int  2 0 0 3 0 13 4 8 3 6 ...\n",
      " $ top_partner_mk_6m_cnt        : int  2 0 0 6 0 6 3 6 6 0 ...\n",
      " $ t_LV_Cnt                     : Factor w/ 3 levels \"a_0\",\"b_1\",\"c_2+\": 1 1 1 1 1 1 1 1 1 1 ...\n",
      " $ t_bobtarife_pay_per_use      : int  0 1 1 1 1 1 0 0 0 1 ...\n",
      " $ t_act_rev_1m_GT_10_EUR       : int  0 0 0 0 0 0 1 1 1 1 ...\n",
      " $ t_mit_ohne_GE_10EUR_ja_nein  : Factor w/ 4 levels \"a_keinGE_GT10EUR\",..: 4 2 2 2 2 2 3 3 3 1 ...\n",
      " $ t_Age                        : Factor w/ 5 levels \"a_LE28\",\"b_29-35\",..: 4 4 5 4 4 4 1 3 3 3 ...\n",
      " $ t_LVA_Cnt_GT0                : int  0 0 0 0 0 0 1 0 0 0 ...\n",
      " - attr(*, \".internal.selfref\")=<externalptr> \n"
     ]
    }
   ],
   "source": [
    "str(data)"
   ]
  },
  {
   "cell_type": "markdown",
   "metadata": {},
   "source": [
    "## Summary Statistics"
   ]
  },
  {
   "cell_type": "code",
   "execution_count": 5,
   "metadata": {
    "collapsed": false
   },
   "outputs": [
    {
     "data": {
      "text/plain": [
       " subscriber_key      report_period_m_cd tenure_mobile  price_plan_age\n",
       " Min.   :200000139   Min.   :201607     Min.   :   0   Min.   :  -1  \n",
       " 1st Qu.:200275024   1st Qu.:201607     1st Qu.:1382   1st Qu.: 911  \n",
       " Median :200557170   Median :201607     Median :2145   Median :1710  \n",
       " Mean   :203027895   Mean   :201608     Mean   :2102   Mean   :1710  \n",
       " 3rd Qu.:206046194   3rd Qu.:201609     3rd Qu.:2831   3rd Qu.:2473  \n",
       " Max.   :206295490   Max.   :201609     Max.   :3742   Max.   :3742  \n",
       "                                                                     \n",
       " priv_cust_seg_txt usg_mv_ib_a_1m_sum usg_md_ib_mb_1m_sum\n",
       " Mode:logical      Min.   :   0.0     Min.   :     0.0   \n",
       " NA's:1105691      1st Qu.:   0.0     1st Qu.:     0.0   \n",
       "                   Median :  40.8     Median :     0.0   \n",
       "                   Mean   : 125.5     Mean   :   421.4   \n",
       "                   3rd Qu.: 169.4     3rd Qu.:   230.2   \n",
       "                   Max.   :4639.4     Max.   :112534.0   \n",
       "                                                         \n",
       " usg_md_sms_ib_a_1m_sum rev_mobile_act_revenue_1m_sum\n",
       " Min.   :   0.00        Min.   :-234.34              \n",
       " 1st Qu.:   0.00        1st Qu.:   0.00              \n",
       " Median :   1.00        Median :   8.16              \n",
       " Mean   :  22.59        Mean   :   8.15              \n",
       " 3rd Qu.:  16.00        3rd Qu.:  12.29              \n",
       " Max.   :3923.00        Max.   : 692.86              \n",
       "                                                     \n",
       " rev_mobile_act_revenue_6m_avg    device_os_cd          device_brand_cd  \n",
       " Min.   :-11023.970                     :345398   Samsung       :318406  \n",
       " 1st Qu.:     0.165            Android  :337123                 :242076  \n",
       " Median :     8.223            prop     :195134   Nokia         :151931  \n",
       " Mean   :     7.733            iOS      : 99893   Apple         : 99893  \n",
       " 3rd Qu.:    12.420            S40      : 90454   Emporia       : 44841  \n",
       " Max.   :   245.357            Windows 8: 10517   LG Electronics: 37409  \n",
       "                               (Other)  : 27172   (Other)       :211135  \n",
       " is_smart_phone_yn rev_mobile_act_revenue_3m_avg distinct_partner_1m_sum\n",
       " N:639079          Min.   :-111.8350             Min.   :  0.00         \n",
       " Y:466612          1st Qu.:   0.1133             1st Qu.:  0.00         \n",
       "                   Median :   8.3067             Median : 11.00         \n",
       "                   Mean   :   8.1137             Mean   : 15.56         \n",
       "                   3rd Qu.:  12.5300             3rd Qu.: 24.00         \n",
       "                   Max.   : 371.4000             Max.   :987.00         \n",
       "                                                                        \n",
       "          price_plan_txt   is_smartphone_tariff_yn     Seg_Cd       \n",
       " bob vierer      :475982   N:761658                RES    :1031327  \n",
       " big bob         :178620   Y:344033                SBS    :  72321  \n",
       " superbob        :120131                           PSHC   :    614  \n",
       " smartbob XL 9,90: 86175                           AM     :    525  \n",
       " bob siebener    : 75148                           INT    :    474  \n",
       " smartbob        : 56668                           KRE    :    164  \n",
       " (Other)         :112967                           (Other):    266  \n",
       "      Age         Gender_Cd   province_cd     census_population_cnt\n",
       " Min.   :  8.00    :   594   NÃ    :290732   Min.   :    60       \n",
       " 1st Qu.: 37.00   F:520871   W      :240332   1st Qu.:  2939       \n",
       " Median : 49.00   M:584226   OÃ    :199176   Median :  8195       \n",
       " Mean   : 49.49              St     :119479   Mean   : 38120       \n",
       " 3rd Qu.: 61.00              T      : 70969   3rd Qu.: 62963       \n",
       " Max.   :152.00              K      : 48562   Max.   :243998       \n",
       "                             (Other):136441   NA's   :90450        \n",
       "          census_population_cd no_data_usage_ind   target_ind     \n",
       "                    : 27164    Min.   :0         Min.   :0.00000  \n",
       " 2.000 bis 5.000 EW :244456    1st Qu.:0         1st Qu.:0.00000  \n",
       " 5.000 bis 50.000 EW:297652    Median :0         Median :0.00000  \n",
       " bis zu 2.000 EW    :211279    Mean   :0         Mean   :0.02129  \n",
       " GroÃstadt Wien    :240330    3rd Qu.:0         3rd Qu.:0.00000  \n",
       " ueber 50.000 EW    : 84810    Max.   :0         Max.   :1.00000  \n",
       "                                                                  \n",
       "     HV_Cnt             HV_Days            LV_Cnt           LV_Days        \n",
       " Min.   : 0.000000   Min.   :  0.000   Min.   :0.00000   Min.   :  0.0000  \n",
       " 1st Qu.: 0.000000   1st Qu.:  0.000   1st Qu.:0.00000   1st Qu.:  0.0000  \n",
       " Median : 0.000000   Median :  0.000   Median :0.00000   Median :  0.0000  \n",
       " Mean   : 0.008877   Mean   :  0.409   Mean   :0.00253   Mean   :  0.1116  \n",
       " 3rd Qu.: 0.000000   3rd Qu.:  0.000   3rd Qu.:0.00000   3rd Qu.:  0.0000  \n",
       " Max.   :13.000000   Max.   :121.000   Max.   :6.00000   Max.   :121.0000  \n",
       "                                                                           \n",
       "     FX_CNT            FX_Days           LVA_Cnt           LVA_Days      \n",
       " Min.   : 0.00000   Min.   :  0.000   Min.   : 0.0000   Min.   :  0.000  \n",
       " 1st Qu.: 0.00000   1st Qu.:  0.000   1st Qu.: 0.0000   1st Qu.:  0.000  \n",
       " Median : 0.00000   Median :  0.000   Median : 0.0000   Median :  0.000  \n",
       " Mean   : 0.03328   Mean   :  1.394   Mean   : 0.1085   Mean   :  5.008  \n",
       " 3rd Qu.: 0.00000   3rd Qu.:  0.000   3rd Qu.: 0.0000   3rd Qu.:  0.000  \n",
       " Max.   :16.00000   Max.   :121.000   Max.   :24.0000   Max.   :121.000  \n",
       "                                                                         \n",
       "    activation_dat     price_plan_cd    price_plan_activation_dat\n",
       " 2006-09-29:   4072   PRCBOB6 :290610   2012-11-23:   8785       \n",
       " 2006-09-28:   3532   PRCBOB17:146404   2011-11-23:   6753       \n",
       " 2006-09-27:   3495   PRCBOB4 :125225   2011-11-22:   6397       \n",
       " 2006-09-26:   3231   PRCBOB29:120131   2012-10-16:   4394       \n",
       " 2006-09-30:   3205   PRCBOB21: 86175   2012-12-28:   4122       \n",
       " 2006-09-25:   2827   PRCBOB  : 75148   2012-12-27:   3767       \n",
       " (Other)   :1085329   (Other) :261998   (Other)   :1071473       \n",
       " used_handset_key    sim_age       subscriber_inactive    combi_cd     \n",
       " Min.   :    0    Min.   :  8.00   N:918607            Unknown:598022  \n",
       " 1st Qu.:28769    1st Qu.: 37.00   Y:187084            UNKNOWN:507669  \n",
       " Median :50981    Median : 49.00                                       \n",
       " Mean   :44942    Mean   : 49.48                                       \n",
       " 3rd Qu.:62181    3rd Qu.: 61.00                                       \n",
       " Max.   :72668    Max.   :152.00                                       \n",
       "                                                                       \n",
       "    adv_key      usg_mv_ib_a_a1_1m_sum usg_mv_ib_a_bob_1m_sum\n",
       " Min.   :0.000   Min.   :   0.000      Min.   :   0.000      \n",
       " 1st Qu.:0.000   1st Qu.:   0.000      1st Qu.:   0.000      \n",
       " Median :7.000   Median :   9.117      Median :   0.000      \n",
       " Mean   :4.454   Mean   :  52.838      Mean   :  15.749      \n",
       " 3rd Qu.:7.000   3rd Qu.:  59.583      3rd Qu.:   7.567      \n",
       " Max.   :7.000   Max.   :4238.183      Max.   :4226.000      \n",
       "                                                             \n",
       " usg_mv_ib_a_omob_tm_1m_sum usg_mv_ib_a_omob_tr_1m_sum\n",
       " Min.   :   0.000           Min.   :   0.000          \n",
       " 1st Qu.:   0.000           1st Qu.:   0.000          \n",
       " Median :   0.000           Median :   0.000          \n",
       " Mean   :  14.719           Mean   :  11.473          \n",
       " 3rd Qu.:   8.867           3rd Qu.:   4.717          \n",
       " Max.   :3881.283           Max.   :2735.550          \n",
       "                                                      \n",
       " usg_mv_ib_a_omob_or_1m_sum usg_mv_ib_a_omob_hu_1m_sum\n",
       " Min.   :   0.000           Min.   :   0.00           \n",
       " 1st Qu.:   0.000           1st Qu.:   0.00           \n",
       " Median :   0.000           Median :   0.00           \n",
       " Mean   :   7.472           Mean   :  13.06           \n",
       " 3rd Qu.:   1.133           3rd Qu.:   6.90           \n",
       " Max.   :3062.500           Max.   :3365.22           \n",
       "                                                      \n",
       " usg_mv_ib_a_omob_rest_1m_sum usg_mv_ib_a_national_1m_sum\n",
       " Min.   :  -0.0001            Min.   :   0.000           \n",
       " 1st Qu.:   0.0000            1st Qu.:   0.000           \n",
       " Median :   0.0000            Median :   1.283           \n",
       " Mean   :   2.0656            Mean   :  17.611           \n",
       " 3rd Qu.:   0.0000            3rd Qu.:  15.050           \n",
       " Max.   :2552.7167            Max.   :2748.833           \n",
       "                                                         \n",
       " usg_mv_ib_a_internat_1m_sum usg_mv_ob_a_1m_sum  usg_mv_ob_p_1m_sum \n",
       " Min.   :   0.000            Min.   :   0.0000   Min.   :   0.0000  \n",
       " 1st Qu.:   0.000            1st Qu.:   0.0000   1st Qu.:   0.0000  \n",
       " Median :   0.000            Median :   0.0000   Median :   0.0000  \n",
       " Mean   :   2.732            Mean   :   0.9143   Mean   :   0.9134  \n",
       " 3rd Qu.:   0.000            3rd Qu.:   0.0000   3rd Qu.:   0.0000  \n",
       " Max.   :2070.350            Max.   :1274.3667   Max.   :1566.6667  \n",
       "                                                                    \n",
       " usg_md_ob_mb_1m_sum charge_usage_ratio distinct_partner_A1_1m_sum\n",
       " Min.   :   0.000    Min.   : 0.0000    Min.   :  0.0             \n",
       " 1st Qu.:   0.000    1st Qu.: 0.0000    1st Qu.:  0.0             \n",
       " Median :   0.000    Median : 0.0000    Median :  1.0             \n",
       " Mean   :   1.308    Mean   : 0.2800    Mean   :  3.3             \n",
       " 3rd Qu.:   0.000    3rd Qu.: 0.5661    3rd Qu.:  5.0             \n",
       " Max.   :3504.079    Max.   :58.1429    Max.   :330.0             \n",
       "                                                                  \n",
       " distinct_partner_bob_1m_sum distinct_partner_rbm_1m_sum\n",
       " Min.   : 0.000              Min.   : 0.00000           \n",
       " 1st Qu.: 0.000              1st Qu.: 0.00000           \n",
       " Median : 1.000              Median : 0.00000           \n",
       " Mean   : 1.354              Mean   : 0.09044           \n",
       " 3rd Qu.: 2.000              3rd Qu.: 0.00000           \n",
       " Max.   :69.000              Max.   :12.00000           \n",
       "                                                        \n",
       " distinct_partner_omob_1m_sum distinct_partner_00_1m_sum\n",
       " Min.   :  0.000              Min.   :  0.00            \n",
       " 1st Qu.:  0.000              1st Qu.:  0.00            \n",
       " Median :  3.000              Median : 11.00            \n",
       " Mean   :  5.411              Mean   : 15.56            \n",
       " 3rd Qu.:  8.000              3rd Qu.: 24.00            \n",
       " Max.   :555.000              Max.   :987.00            \n",
       "                                                        \n",
       " distinct_partner_sp_1m_sum top_partner_mk_6m_cnt t_LV_Cnt      \n",
       " Min.   :  0.000            Min.   :0.000         a_0 :1103544  \n",
       " 1st Qu.:  0.000            1st Qu.:0.000         b_1 :   1670  \n",
       " Median :  2.000            Median :1.000         c_2+:    477  \n",
       " Mean   :  3.272            Mean   :2.488                       \n",
       " 3rd Qu.:  5.000            3rd Qu.:6.000                       \n",
       " Max.   :243.000            Max.   :6.000                       \n",
       "                                                                \n",
       " t_bobtarife_pay_per_use t_act_rev_1m_GT_10_EUR   t_mit_ohne_GE_10EUR_ja_nein\n",
       " Min.   :0.0000          Min.   :0.0000         a_keinGE_GT10EUR: 53431      \n",
       " 1st Qu.:0.0000          1st Qu.:0.0000         b_keinGE_LE10EUR:502019      \n",
       " Median :1.0000          Median :0.0000         c_mitGE_GT10EUR :494889      \n",
       " Mean   :0.5024          Mean   :0.4959         d_mitGE_LE10EUR : 55352      \n",
       " 3rd Qu.:1.0000          3rd Qu.:1.0000                                      \n",
       " Max.   :1.0000          Max.   :1.0000                                      \n",
       "                                                                             \n",
       "     t_Age        t_LVA_Cnt_GT0  \n",
       " a_LE28 :106836   Min.   :0.000  \n",
       " b_29-35:131033   1st Qu.:0.000  \n",
       " c_36-50:368023   Median :0.000  \n",
       " d_51-65:299629   Mean   :0.083  \n",
       " e_65+  :200170   3rd Qu.:0.000  \n",
       "                  Max.   :1.000  \n",
       "                                 "
      ]
     },
     "metadata": {},
     "output_type": "display_data"
    }
   ],
   "source": [
    "summary(data)"
   ]
  },
  {
   "cell_type": "markdown",
   "metadata": {},
   "source": [
    "## % of missing values per column"
   ]
  },
  {
   "cell_type": "code",
   "execution_count": 6,
   "metadata": {
    "collapsed": false
   },
   "outputs": [
    {
     "data": {
      "text/html": [
       "<dl class=dl-horizontal>\n",
       "\t<dt>subscriber_key</dt>\n",
       "\t\t<dd>0</dd>\n",
       "\t<dt>report_period_m_cd</dt>\n",
       "\t\t<dd>0</dd>\n",
       "\t<dt>tenure_mobile</dt>\n",
       "\t\t<dd>0</dd>\n",
       "\t<dt>price_plan_age</dt>\n",
       "\t\t<dd>0</dd>\n",
       "\t<dt>priv_cust_seg_txt</dt>\n",
       "\t\t<dd>1</dd>\n",
       "\t<dt>usg_mv_ib_a_1m_sum</dt>\n",
       "\t\t<dd>0</dd>\n",
       "\t<dt>usg_md_ib_mb_1m_sum</dt>\n",
       "\t\t<dd>0</dd>\n",
       "\t<dt>usg_md_sms_ib_a_1m_sum</dt>\n",
       "\t\t<dd>0</dd>\n",
       "\t<dt>rev_mobile_act_revenue_1m_sum</dt>\n",
       "\t\t<dd>0</dd>\n",
       "\t<dt>rev_mobile_act_revenue_6m_avg</dt>\n",
       "\t\t<dd>0</dd>\n",
       "\t<dt>device_os_cd</dt>\n",
       "\t\t<dd>0</dd>\n",
       "\t<dt>device_brand_cd</dt>\n",
       "\t\t<dd>0</dd>\n",
       "\t<dt>is_smart_phone_yn</dt>\n",
       "\t\t<dd>0</dd>\n",
       "\t<dt>rev_mobile_act_revenue_3m_avg</dt>\n",
       "\t\t<dd>0</dd>\n",
       "\t<dt>distinct_partner_1m_sum</dt>\n",
       "\t\t<dd>0</dd>\n",
       "\t<dt>price_plan_txt</dt>\n",
       "\t\t<dd>0</dd>\n",
       "\t<dt>is_smartphone_tariff_yn</dt>\n",
       "\t\t<dd>0</dd>\n",
       "\t<dt>Seg_Cd</dt>\n",
       "\t\t<dd>0</dd>\n",
       "\t<dt>Age</dt>\n",
       "\t\t<dd>0</dd>\n",
       "\t<dt>Gender_Cd</dt>\n",
       "\t\t<dd>0</dd>\n",
       "\t<dt>province_cd</dt>\n",
       "\t\t<dd>0</dd>\n",
       "\t<dt>census_population_cnt</dt>\n",
       "\t\t<dd>0.0818040483281495</dd>\n",
       "\t<dt>census_population_cd</dt>\n",
       "\t\t<dd>0</dd>\n",
       "\t<dt>no_data_usage_ind</dt>\n",
       "\t\t<dd>0</dd>\n",
       "\t<dt>target_ind</dt>\n",
       "\t\t<dd>0</dd>\n",
       "\t<dt>HV_Cnt</dt>\n",
       "\t\t<dd>0</dd>\n",
       "\t<dt>HV_Days</dt>\n",
       "\t\t<dd>0</dd>\n",
       "\t<dt>LV_Cnt</dt>\n",
       "\t\t<dd>0</dd>\n",
       "\t<dt>LV_Days</dt>\n",
       "\t\t<dd>0</dd>\n",
       "\t<dt>FX_CNT</dt>\n",
       "\t\t<dd>0</dd>\n",
       "\t<dt>FX_Days</dt>\n",
       "\t\t<dd>0</dd>\n",
       "\t<dt>LVA_Cnt</dt>\n",
       "\t\t<dd>0</dd>\n",
       "\t<dt>LVA_Days</dt>\n",
       "\t\t<dd>0</dd>\n",
       "\t<dt>activation_dat</dt>\n",
       "\t\t<dd>0</dd>\n",
       "\t<dt>price_plan_cd</dt>\n",
       "\t\t<dd>0</dd>\n",
       "\t<dt>price_plan_activation_dat</dt>\n",
       "\t\t<dd>0</dd>\n",
       "\t<dt>used_handset_key</dt>\n",
       "\t\t<dd>0</dd>\n",
       "\t<dt>sim_age</dt>\n",
       "\t\t<dd>0</dd>\n",
       "\t<dt>subscriber_inactive</dt>\n",
       "\t\t<dd>0</dd>\n",
       "\t<dt>combi_cd</dt>\n",
       "\t\t<dd>0</dd>\n",
       "\t<dt>adv_key</dt>\n",
       "\t\t<dd>0</dd>\n",
       "\t<dt>usg_mv_ib_a_a1_1m_sum</dt>\n",
       "\t\t<dd>0</dd>\n",
       "\t<dt>usg_mv_ib_a_bob_1m_sum</dt>\n",
       "\t\t<dd>0</dd>\n",
       "\t<dt>usg_mv_ib_a_omob_tm_1m_sum</dt>\n",
       "\t\t<dd>0</dd>\n",
       "\t<dt>usg_mv_ib_a_omob_tr_1m_sum</dt>\n",
       "\t\t<dd>0</dd>\n",
       "\t<dt>usg_mv_ib_a_omob_or_1m_sum</dt>\n",
       "\t\t<dd>0</dd>\n",
       "\t<dt>usg_mv_ib_a_omob_hu_1m_sum</dt>\n",
       "\t\t<dd>0</dd>\n",
       "\t<dt>usg_mv_ib_a_omob_rest_1m_sum</dt>\n",
       "\t\t<dd>0</dd>\n",
       "\t<dt>usg_mv_ib_a_national_1m_sum</dt>\n",
       "\t\t<dd>0</dd>\n",
       "\t<dt>usg_mv_ib_a_internat_1m_sum</dt>\n",
       "\t\t<dd>0</dd>\n",
       "\t<dt>usg_mv_ob_a_1m_sum</dt>\n",
       "\t\t<dd>0</dd>\n",
       "\t<dt>usg_mv_ob_p_1m_sum</dt>\n",
       "\t\t<dd>0</dd>\n",
       "\t<dt>usg_md_ob_mb_1m_sum</dt>\n",
       "\t\t<dd>0</dd>\n",
       "\t<dt>charge_usage_ratio</dt>\n",
       "\t\t<dd>0</dd>\n",
       "\t<dt>distinct_partner_A1_1m_sum</dt>\n",
       "\t\t<dd>0</dd>\n",
       "\t<dt>distinct_partner_bob_1m_sum</dt>\n",
       "\t\t<dd>0</dd>\n",
       "\t<dt>distinct_partner_rbm_1m_sum</dt>\n",
       "\t\t<dd>0</dd>\n",
       "\t<dt>distinct_partner_omob_1m_sum</dt>\n",
       "\t\t<dd>0</dd>\n",
       "\t<dt>distinct_partner_00_1m_sum</dt>\n",
       "\t\t<dd>0</dd>\n",
       "\t<dt>distinct_partner_sp_1m_sum</dt>\n",
       "\t\t<dd>0</dd>\n",
       "\t<dt>top_partner_mk_6m_cnt</dt>\n",
       "\t\t<dd>0</dd>\n",
       "\t<dt>t_LV_Cnt</dt>\n",
       "\t\t<dd>0</dd>\n",
       "\t<dt>t_bobtarife_pay_per_use</dt>\n",
       "\t\t<dd>0</dd>\n",
       "\t<dt>t_act_rev_1m_GT_10_EUR</dt>\n",
       "\t\t<dd>0</dd>\n",
       "\t<dt>t_mit_ohne_GE_10EUR_ja_nein</dt>\n",
       "\t\t<dd>0</dd>\n",
       "\t<dt>t_Age</dt>\n",
       "\t\t<dd>0</dd>\n",
       "\t<dt>t_LVA_Cnt_GT0</dt>\n",
       "\t\t<dd>0</dd>\n",
       "</dl>\n"
      ],
      "text/latex": [
       "\\begin{description*}\n",
       "\\item[subscriber\\textbackslash{}\\_key] 0\n",
       "\\item[report\\textbackslash{}\\_period\\textbackslash{}\\_m\\textbackslash{}\\_cd] 0\n",
       "\\item[tenure\\textbackslash{}\\_mobile] 0\n",
       "\\item[price\\textbackslash{}\\_plan\\textbackslash{}\\_age] 0\n",
       "\\item[priv\\textbackslash{}\\_cust\\textbackslash{}\\_seg\\textbackslash{}\\_txt] 1\n",
       "\\item[usg\\textbackslash{}\\_mv\\textbackslash{}\\_ib\\textbackslash{}\\_a\\textbackslash{}\\_1m\\textbackslash{}\\_sum] 0\n",
       "\\item[usg\\textbackslash{}\\_md\\textbackslash{}\\_ib\\textbackslash{}\\_mb\\textbackslash{}\\_1m\\textbackslash{}\\_sum] 0\n",
       "\\item[usg\\textbackslash{}\\_md\\textbackslash{}\\_sms\\textbackslash{}\\_ib\\textbackslash{}\\_a\\textbackslash{}\\_1m\\textbackslash{}\\_sum] 0\n",
       "\\item[rev\\textbackslash{}\\_mobile\\textbackslash{}\\_act\\textbackslash{}\\_revenue\\textbackslash{}\\_1m\\textbackslash{}\\_sum] 0\n",
       "\\item[rev\\textbackslash{}\\_mobile\\textbackslash{}\\_act\\textbackslash{}\\_revenue\\textbackslash{}\\_6m\\textbackslash{}\\_avg] 0\n",
       "\\item[device\\textbackslash{}\\_os\\textbackslash{}\\_cd] 0\n",
       "\\item[device\\textbackslash{}\\_brand\\textbackslash{}\\_cd] 0\n",
       "\\item[is\\textbackslash{}\\_smart\\textbackslash{}\\_phone\\textbackslash{}\\_yn] 0\n",
       "\\item[rev\\textbackslash{}\\_mobile\\textbackslash{}\\_act\\textbackslash{}\\_revenue\\textbackslash{}\\_3m\\textbackslash{}\\_avg] 0\n",
       "\\item[distinct\\textbackslash{}\\_partner\\textbackslash{}\\_1m\\textbackslash{}\\_sum] 0\n",
       "\\item[price\\textbackslash{}\\_plan\\textbackslash{}\\_txt] 0\n",
       "\\item[is\\textbackslash{}\\_smartphone\\textbackslash{}\\_tariff\\textbackslash{}\\_yn] 0\n",
       "\\item[Seg\\textbackslash{}\\_Cd] 0\n",
       "\\item[Age] 0\n",
       "\\item[Gender\\textbackslash{}\\_Cd] 0\n",
       "\\item[province\\textbackslash{}\\_cd] 0\n",
       "\\item[census\\textbackslash{}\\_population\\textbackslash{}\\_cnt] 0.0818040483281495\n",
       "\\item[census\\textbackslash{}\\_population\\textbackslash{}\\_cd] 0\n",
       "\\item[no\\textbackslash{}\\_data\\textbackslash{}\\_usage\\textbackslash{}\\_ind] 0\n",
       "\\item[target\\textbackslash{}\\_ind] 0\n",
       "\\item[HV\\textbackslash{}\\_Cnt] 0\n",
       "\\item[HV\\textbackslash{}\\_Days] 0\n",
       "\\item[LV\\textbackslash{}\\_Cnt] 0\n",
       "\\item[LV\\textbackslash{}\\_Days] 0\n",
       "\\item[FX\\textbackslash{}\\_CNT] 0\n",
       "\\item[FX\\textbackslash{}\\_Days] 0\n",
       "\\item[LVA\\textbackslash{}\\_Cnt] 0\n",
       "\\item[LVA\\textbackslash{}\\_Days] 0\n",
       "\\item[activation\\textbackslash{}\\_dat] 0\n",
       "\\item[price\\textbackslash{}\\_plan\\textbackslash{}\\_cd] 0\n",
       "\\item[price\\textbackslash{}\\_plan\\textbackslash{}\\_activation\\textbackslash{}\\_dat] 0\n",
       "\\item[used\\textbackslash{}\\_handset\\textbackslash{}\\_key] 0\n",
       "\\item[sim\\textbackslash{}\\_age] 0\n",
       "\\item[subscriber\\textbackslash{}\\_inactive] 0\n",
       "\\item[combi\\textbackslash{}\\_cd] 0\n",
       "\\item[adv\\textbackslash{}\\_key] 0\n",
       "\\item[usg\\textbackslash{}\\_mv\\textbackslash{}\\_ib\\textbackslash{}\\_a\\textbackslash{}\\_a1\\textbackslash{}\\_1m\\textbackslash{}\\_sum] 0\n",
       "\\item[usg\\textbackslash{}\\_mv\\textbackslash{}\\_ib\\textbackslash{}\\_a\\textbackslash{}\\_bob\\textbackslash{}\\_1m\\textbackslash{}\\_sum] 0\n",
       "\\item[usg\\textbackslash{}\\_mv\\textbackslash{}\\_ib\\textbackslash{}\\_a\\textbackslash{}\\_omob\\textbackslash{}\\_tm\\textbackslash{}\\_1m\\textbackslash{}\\_sum] 0\n",
       "\\item[usg\\textbackslash{}\\_mv\\textbackslash{}\\_ib\\textbackslash{}\\_a\\textbackslash{}\\_omob\\textbackslash{}\\_tr\\textbackslash{}\\_1m\\textbackslash{}\\_sum] 0\n",
       "\\item[usg\\textbackslash{}\\_mv\\textbackslash{}\\_ib\\textbackslash{}\\_a\\textbackslash{}\\_omob\\textbackslash{}\\_or\\textbackslash{}\\_1m\\textbackslash{}\\_sum] 0\n",
       "\\item[usg\\textbackslash{}\\_mv\\textbackslash{}\\_ib\\textbackslash{}\\_a\\textbackslash{}\\_omob\\textbackslash{}\\_hu\\textbackslash{}\\_1m\\textbackslash{}\\_sum] 0\n",
       "\\item[usg\\textbackslash{}\\_mv\\textbackslash{}\\_ib\\textbackslash{}\\_a\\textbackslash{}\\_omob\\textbackslash{}\\_rest\\textbackslash{}\\_1m\\textbackslash{}\\_sum] 0\n",
       "\\item[usg\\textbackslash{}\\_mv\\textbackslash{}\\_ib\\textbackslash{}\\_a\\textbackslash{}\\_national\\textbackslash{}\\_1m\\textbackslash{}\\_sum] 0\n",
       "\\item[usg\\textbackslash{}\\_mv\\textbackslash{}\\_ib\\textbackslash{}\\_a\\textbackslash{}\\_internat\\textbackslash{}\\_1m\\textbackslash{}\\_sum] 0\n",
       "\\item[usg\\textbackslash{}\\_mv\\textbackslash{}\\_ob\\textbackslash{}\\_a\\textbackslash{}\\_1m\\textbackslash{}\\_sum] 0\n",
       "\\item[usg\\textbackslash{}\\_mv\\textbackslash{}\\_ob\\textbackslash{}\\_p\\textbackslash{}\\_1m\\textbackslash{}\\_sum] 0\n",
       "\\item[usg\\textbackslash{}\\_md\\textbackslash{}\\_ob\\textbackslash{}\\_mb\\textbackslash{}\\_1m\\textbackslash{}\\_sum] 0\n",
       "\\item[charge\\textbackslash{}\\_usage\\textbackslash{}\\_ratio] 0\n",
       "\\item[distinct\\textbackslash{}\\_partner\\textbackslash{}\\_A1\\textbackslash{}\\_1m\\textbackslash{}\\_sum] 0\n",
       "\\item[distinct\\textbackslash{}\\_partner\\textbackslash{}\\_bob\\textbackslash{}\\_1m\\textbackslash{}\\_sum] 0\n",
       "\\item[distinct\\textbackslash{}\\_partner\\textbackslash{}\\_rbm\\textbackslash{}\\_1m\\textbackslash{}\\_sum] 0\n",
       "\\item[distinct\\textbackslash{}\\_partner\\textbackslash{}\\_omob\\textbackslash{}\\_1m\\textbackslash{}\\_sum] 0\n",
       "\\item[distinct\\textbackslash{}\\_partner\\textbackslash{}\\_00\\textbackslash{}\\_1m\\textbackslash{}\\_sum] 0\n",
       "\\item[distinct\\textbackslash{}\\_partner\\textbackslash{}\\_sp\\textbackslash{}\\_1m\\textbackslash{}\\_sum] 0\n",
       "\\item[top\\textbackslash{}\\_partner\\textbackslash{}\\_mk\\textbackslash{}\\_6m\\textbackslash{}\\_cnt] 0\n",
       "\\item[t\\textbackslash{}\\_LV\\textbackslash{}\\_Cnt] 0\n",
       "\\item[t\\textbackslash{}\\_bobtarife\\textbackslash{}\\_pay\\textbackslash{}\\_per\\textbackslash{}\\_use] 0\n",
       "\\item[t\\textbackslash{}\\_act\\textbackslash{}\\_rev\\textbackslash{}\\_1m\\textbackslash{}\\_GT\\textbackslash{}\\_10\\textbackslash{}\\_EUR] 0\n",
       "\\item[t\\textbackslash{}\\_mit\\textbackslash{}\\_ohne\\textbackslash{}\\_GE\\textbackslash{}\\_10EUR\\textbackslash{}\\_ja\\textbackslash{}\\_nein] 0\n",
       "\\item[t\\textbackslash{}\\_Age] 0\n",
       "\\item[t\\textbackslash{}\\_LVA\\textbackslash{}\\_Cnt\\textbackslash{}\\_GT0] 0\n",
       "\\end{description*}\n"
      ],
      "text/markdown": [
       "subscriber_key\n",
       ":   0report_period_m_cd\n",
       ":   0tenure_mobile\n",
       ":   0price_plan_age\n",
       ":   0priv_cust_seg_txt\n",
       ":   1usg_mv_ib_a_1m_sum\n",
       ":   0usg_md_ib_mb_1m_sum\n",
       ":   0usg_md_sms_ib_a_1m_sum\n",
       ":   0rev_mobile_act_revenue_1m_sum\n",
       ":   0rev_mobile_act_revenue_6m_avg\n",
       ":   0device_os_cd\n",
       ":   0device_brand_cd\n",
       ":   0is_smart_phone_yn\n",
       ":   0rev_mobile_act_revenue_3m_avg\n",
       ":   0distinct_partner_1m_sum\n",
       ":   0price_plan_txt\n",
       ":   0is_smartphone_tariff_yn\n",
       ":   0Seg_Cd\n",
       ":   0Age\n",
       ":   0Gender_Cd\n",
       ":   0province_cd\n",
       ":   0census_population_cnt\n",
       ":   0.0818040483281495census_population_cd\n",
       ":   0no_data_usage_ind\n",
       ":   0target_ind\n",
       ":   0HV_Cnt\n",
       ":   0HV_Days\n",
       ":   0LV_Cnt\n",
       ":   0LV_Days\n",
       ":   0FX_CNT\n",
       ":   0FX_Days\n",
       ":   0LVA_Cnt\n",
       ":   0LVA_Days\n",
       ":   0activation_dat\n",
       ":   0price_plan_cd\n",
       ":   0price_plan_activation_dat\n",
       ":   0used_handset_key\n",
       ":   0sim_age\n",
       ":   0subscriber_inactive\n",
       ":   0combi_cd\n",
       ":   0adv_key\n",
       ":   0usg_mv_ib_a_a1_1m_sum\n",
       ":   0usg_mv_ib_a_bob_1m_sum\n",
       ":   0usg_mv_ib_a_omob_tm_1m_sum\n",
       ":   0usg_mv_ib_a_omob_tr_1m_sum\n",
       ":   0usg_mv_ib_a_omob_or_1m_sum\n",
       ":   0usg_mv_ib_a_omob_hu_1m_sum\n",
       ":   0usg_mv_ib_a_omob_rest_1m_sum\n",
       ":   0usg_mv_ib_a_national_1m_sum\n",
       ":   0usg_mv_ib_a_internat_1m_sum\n",
       ":   0usg_mv_ob_a_1m_sum\n",
       ":   0usg_mv_ob_p_1m_sum\n",
       ":   0usg_md_ob_mb_1m_sum\n",
       ":   0charge_usage_ratio\n",
       ":   0distinct_partner_A1_1m_sum\n",
       ":   0distinct_partner_bob_1m_sum\n",
       ":   0distinct_partner_rbm_1m_sum\n",
       ":   0distinct_partner_omob_1m_sum\n",
       ":   0distinct_partner_00_1m_sum\n",
       ":   0distinct_partner_sp_1m_sum\n",
       ":   0top_partner_mk_6m_cnt\n",
       ":   0t_LV_Cnt\n",
       ":   0t_bobtarife_pay_per_use\n",
       ":   0t_act_rev_1m_GT_10_EUR\n",
       ":   0t_mit_ohne_GE_10EUR_ja_nein\n",
       ":   0t_Age\n",
       ":   0t_LVA_Cnt_GT0\n",
       ":   0\n",
       "\n"
      ],
      "text/plain": [
       "               subscriber_key            report_period_m_cd \n",
       "                   0.00000000                    0.00000000 \n",
       "                tenure_mobile                price_plan_age \n",
       "                   0.00000000                    0.00000000 \n",
       "            priv_cust_seg_txt            usg_mv_ib_a_1m_sum \n",
       "                   1.00000000                    0.00000000 \n",
       "          usg_md_ib_mb_1m_sum        usg_md_sms_ib_a_1m_sum \n",
       "                   0.00000000                    0.00000000 \n",
       "rev_mobile_act_revenue_1m_sum rev_mobile_act_revenue_6m_avg \n",
       "                   0.00000000                    0.00000000 \n",
       "                 device_os_cd               device_brand_cd \n",
       "                   0.00000000                    0.00000000 \n",
       "            is_smart_phone_yn rev_mobile_act_revenue_3m_avg \n",
       "                   0.00000000                    0.00000000 \n",
       "      distinct_partner_1m_sum                price_plan_txt \n",
       "                   0.00000000                    0.00000000 \n",
       "      is_smartphone_tariff_yn                        Seg_Cd \n",
       "                   0.00000000                    0.00000000 \n",
       "                          Age                     Gender_Cd \n",
       "                   0.00000000                    0.00000000 \n",
       "                  province_cd         census_population_cnt \n",
       "                   0.00000000                    0.08180405 \n",
       "         census_population_cd             no_data_usage_ind \n",
       "                   0.00000000                    0.00000000 \n",
       "                   target_ind                        HV_Cnt \n",
       "                   0.00000000                    0.00000000 \n",
       "                      HV_Days                        LV_Cnt \n",
       "                   0.00000000                    0.00000000 \n",
       "                      LV_Days                        FX_CNT \n",
       "                   0.00000000                    0.00000000 \n",
       "                      FX_Days                       LVA_Cnt \n",
       "                   0.00000000                    0.00000000 \n",
       "                     LVA_Days                activation_dat \n",
       "                   0.00000000                    0.00000000 \n",
       "                price_plan_cd     price_plan_activation_dat \n",
       "                   0.00000000                    0.00000000 \n",
       "             used_handset_key                       sim_age \n",
       "                   0.00000000                    0.00000000 \n",
       "          subscriber_inactive                      combi_cd \n",
       "                   0.00000000                    0.00000000 \n",
       "                      adv_key         usg_mv_ib_a_a1_1m_sum \n",
       "                   0.00000000                    0.00000000 \n",
       "       usg_mv_ib_a_bob_1m_sum    usg_mv_ib_a_omob_tm_1m_sum \n",
       "                   0.00000000                    0.00000000 \n",
       "   usg_mv_ib_a_omob_tr_1m_sum    usg_mv_ib_a_omob_or_1m_sum \n",
       "                   0.00000000                    0.00000000 \n",
       "   usg_mv_ib_a_omob_hu_1m_sum  usg_mv_ib_a_omob_rest_1m_sum \n",
       "                   0.00000000                    0.00000000 \n",
       "  usg_mv_ib_a_national_1m_sum   usg_mv_ib_a_internat_1m_sum \n",
       "                   0.00000000                    0.00000000 \n",
       "           usg_mv_ob_a_1m_sum            usg_mv_ob_p_1m_sum \n",
       "                   0.00000000                    0.00000000 \n",
       "          usg_md_ob_mb_1m_sum            charge_usage_ratio \n",
       "                   0.00000000                    0.00000000 \n",
       "   distinct_partner_A1_1m_sum   distinct_partner_bob_1m_sum \n",
       "                   0.00000000                    0.00000000 \n",
       "  distinct_partner_rbm_1m_sum  distinct_partner_omob_1m_sum \n",
       "                   0.00000000                    0.00000000 \n",
       "   distinct_partner_00_1m_sum    distinct_partner_sp_1m_sum \n",
       "                   0.00000000                    0.00000000 \n",
       "        top_partner_mk_6m_cnt                      t_LV_Cnt \n",
       "                   0.00000000                    0.00000000 \n",
       "      t_bobtarife_pay_per_use        t_act_rev_1m_GT_10_EUR \n",
       "                   0.00000000                    0.00000000 \n",
       "  t_mit_ohne_GE_10EUR_ja_nein                         t_Age \n",
       "                   0.00000000                    0.00000000 \n",
       "                t_LVA_Cnt_GT0 \n",
       "                   0.00000000 "
      ]
     },
     "metadata": {},
     "output_type": "display_data"
    }
   ],
   "source": [
    "colMeans(is.na(data))"
   ]
  },
  {
   "cell_type": "code",
   "execution_count": 7,
   "metadata": {
    "collapsed": false
   },
   "outputs": [
    {
     "data": {},
     "metadata": {},
     "output_type": "display_data"
    },
    {
     "data": {},
     "metadata": {},
     "output_type": "display_data"
    },
    {
     "data": {},
     "metadata": {},
     "output_type": "display_data"
    }
   ],
   "source": [
    "data[,priv_cust_seg_txt:= NULL]\n",
    "data[,activation_dat:=NULL]\n",
    "data[,price_plan_activation_dat:=NULL]"
   ]
  },
  {
   "cell_type": "markdown",
   "metadata": {},
   "source": [
    "## Data Cleaning"
   ]
  },
  {
   "cell_type": "code",
   "execution_count": 8,
   "metadata": {
    "collapsed": false
   },
   "outputs": [
    {
     "data": {
      "text/html": [
       "<dl class=dl-horizontal>\n",
       "\t<dt>1</dt>\n",
       "\t\t<dd>345398</dd>\n",
       "\t<dt>Android</dt>\n",
       "\t\t<dd>337123</dd>\n",
       "\t<dt>Bada</dt>\n",
       "\t\t<dd>1703</dd>\n",
       "\t<dt>BB</dt>\n",
       "\t\t<dd>1600</dd>\n",
       "\t<dt>Blackberry 10</dt>\n",
       "\t\t<dd>770</dd>\n",
       "\t<dt>iOS</dt>\n",
       "\t\t<dd>99893</dd>\n",
       "\t<dt>MAEMO</dt>\n",
       "\t\t<dd>71</dd>\n",
       "\t<dt>prop</dt>\n",
       "\t\t<dd>195134</dd>\n",
       "\t<dt>S30</dt>\n",
       "\t\t<dd>7351</dd>\n",
       "\t<dt>S40</dt>\n",
       "\t\t<dd>90454</dd>\n",
       "\t<dt>S60</dt>\n",
       "\t\t<dd>5725</dd>\n",
       "\t<dt>S60 Touch</dt>\n",
       "\t\t<dd>1917</dd>\n",
       "\t<dt>S80</dt>\n",
       "\t\t<dd>111</dd>\n",
       "\t<dt>Symbian Anna</dt>\n",
       "\t\t<dd>76</dd>\n",
       "\t<dt>Symbian Belle</dt>\n",
       "\t\t<dd>108</dd>\n",
       "\t<dt>Symbian^3</dt>\n",
       "\t\t<dd>1263</dd>\n",
       "\t<dt>UIQ</dt>\n",
       "\t\t<dd>107</dd>\n",
       "\t<dt>Windows 10</dt>\n",
       "\t\t<dd>2033</dd>\n",
       "\t<dt>Windows 6.5</dt>\n",
       "\t\t<dd>2</dd>\n",
       "\t<dt>Windows 7</dt>\n",
       "\t\t<dd>83</dd>\n",
       "\t<dt>Windows 7.5</dt>\n",
       "\t\t<dd>220</dd>\n",
       "\t<dt>Windows 8</dt>\n",
       "\t\t<dd>10517</dd>\n",
       "\t<dt>WinMo</dt>\n",
       "\t\t<dd>576</dd>\n",
       "\t<dt>WP7</dt>\n",
       "\t\t<dd>963</dd>\n",
       "\t<dt>WP8</dt>\n",
       "\t\t<dd>2493</dd>\n",
       "</dl>\n"
      ],
      "text/latex": [
       "\\begin{description*}\n",
       "\\item[1] 345398\n",
       "\\item[Android] 337123\n",
       "\\item[Bada] 1703\n",
       "\\item[BB] 1600\n",
       "\\item[Blackberry 10] 770\n",
       "\\item[iOS] 99893\n",
       "\\item[MAEMO] 71\n",
       "\\item[prop] 195134\n",
       "\\item[S30] 7351\n",
       "\\item[S40] 90454\n",
       "\\item[S60] 5725\n",
       "\\item[S60 Touch] 1917\n",
       "\\item[S80] 111\n",
       "\\item[Symbian Anna] 76\n",
       "\\item[Symbian Belle] 108\n",
       "\\item[Symbian\\textbackslash{}textasciicircum\\{\\}3] 1263\n",
       "\\item[UIQ] 107\n",
       "\\item[Windows 10] 2033\n",
       "\\item[Windows 6.5] 2\n",
       "\\item[Windows 7] 83\n",
       "\\item[Windows 7.5] 220\n",
       "\\item[Windows 8] 10517\n",
       "\\item[WinMo] 576\n",
       "\\item[WP7] 963\n",
       "\\item[WP8] 2493\n",
       "\\end{description*}\n"
      ],
      "text/markdown": [
       "1\n",
       ":   345398Android\n",
       ":   337123Bada\n",
       ":   1703BB\n",
       ":   1600Blackberry 10\n",
       ":   770iOS\n",
       ":   99893MAEMO\n",
       ":   71prop\n",
       ":   195134S30\n",
       ":   7351S40\n",
       ":   90454S60\n",
       ":   5725S60 Touch\n",
       ":   1917S80\n",
       ":   111Symbian Anna\n",
       ":   76Symbian Belle\n",
       ":   108Symbian^3\n",
       ":   1263UIQ\n",
       ":   107Windows 10\n",
       ":   2033Windows 6.5\n",
       ":   2Windows 7\n",
       ":   83Windows 7.5\n",
       ":   220Windows 8\n",
       ":   10517WinMo\n",
       ":   576WP7\n",
       ":   963WP8\n",
       ":   2493\n",
       "\n"
      ],
      "text/plain": [
       "                    Android          Bada            BB Blackberry 10 \n",
       "       345398        337123          1703          1600           770 \n",
       "          iOS         MAEMO          prop           S30           S40 \n",
       "        99893            71        195134          7351         90454 \n",
       "          S60     S60 Touch           S80  Symbian Anna Symbian Belle \n",
       "         5725          1917           111            76           108 \n",
       "    Symbian^3           UIQ    Windows 10   Windows 6.5     Windows 7 \n",
       "         1263           107          2033             2            83 \n",
       "  Windows 7.5     Windows 8         WinMo           WP7           WP8 \n",
       "          220         10517           576           963          2493 "
      ]
     },
     "metadata": {},
     "output_type": "display_data"
    }
   ],
   "source": [
    "summary(data$device_os_cd)\n",
    "data$device_os <- ifelse(as.character(data$device_os_cd) == \"\",\"NULL\",as.character(data$device_os_cd))\n",
    "os <- c(\"Android\",\"iOS\",\"prop\",\"S40\",\"NULL\")\n",
    "data$device_os <- factor(ifelse(!(data$device_os %in% os),\"OTHER\",data$device_os))"
   ]
  },
  {
   "cell_type": "code",
   "execution_count": 9,
   "metadata": {
    "collapsed": false
   },
   "outputs": [
    {
     "data": {
      "text/html": [
       "<dl class=dl-horizontal>\n",
       "\t<dt>Android</dt>\n",
       "\t\t<dd>337123</dd>\n",
       "\t<dt>iOS</dt>\n",
       "\t\t<dd>99893</dd>\n",
       "\t<dt>NULL</dt>\n",
       "\t\t<dd>345398</dd>\n",
       "\t<dt>OTHER</dt>\n",
       "\t\t<dd>37689</dd>\n",
       "\t<dt>prop</dt>\n",
       "\t\t<dd>195134</dd>\n",
       "\t<dt>S40</dt>\n",
       "\t\t<dd>90454</dd>\n",
       "</dl>\n"
      ],
      "text/latex": [
       "\\begin{description*}\n",
       "\\item[Android] 337123\n",
       "\\item[iOS] 99893\n",
       "\\item[NULL] 345398\n",
       "\\item[OTHER] 37689\n",
       "\\item[prop] 195134\n",
       "\\item[S40] 90454\n",
       "\\end{description*}\n"
      ],
      "text/markdown": [
       "Android\n",
       ":   337123iOS\n",
       ":   99893NULL\n",
       ":   345398OTHER\n",
       ":   37689prop\n",
       ":   195134S40\n",
       ":   90454\n",
       "\n"
      ],
      "text/plain": [
       "Android     iOS    NULL   OTHER    prop     S40 \n",
       " 337123   99893  345398   37689  195134   90454 "
      ]
     },
     "metadata": {},
     "output_type": "display_data"
    },
    {
     "data": {},
     "metadata": {},
     "output_type": "display_data"
    }
   ],
   "source": [
    "summary(data$device_os)\n",
    "data[,device_os_cd:=NULL]"
   ]
  },
  {
   "cell_type": "code",
   "execution_count": 10,
   "metadata": {
    "collapsed": false
   },
   "outputs": [
    {
     "data": {
      "text/html": [
       "<dl class=dl-horizontal>\n",
       "\t<dt>Samsung</dt>\n",
       "\t\t<dd>318406</dd>\n",
       "\t<dt>2</dt>\n",
       "\t\t<dd>242076</dd>\n",
       "\t<dt>Nokia</dt>\n",
       "\t\t<dd>151931</dd>\n",
       "\t<dt>Apple</dt>\n",
       "\t\t<dd>99893</dd>\n",
       "\t<dt>Emporia</dt>\n",
       "\t\t<dd>44841</dd>\n",
       "\t<dt>LG Electronics</dt>\n",
       "\t\t<dd>37409</dd>\n",
       "\t<dt>Telit</dt>\n",
       "\t\t<dd>24449</dd>\n",
       "\t<dt>SONY</dt>\n",
       "\t\t<dd>23488</dd>\n",
       "\t<dt>Huawei</dt>\n",
       "\t\t<dd>18441</dd>\n",
       "\t<dt>Sony Ericsson</dt>\n",
       "\t\t<dd>17667</dd>\n",
       "\t<dt>HTC</dt>\n",
       "\t\t<dd>13935</dd>\n",
       "\t<dt>Cinterion Wireless Modules</dt>\n",
       "\t\t<dd>11121</dd>\n",
       "\t<dt>Siemens</dt>\n",
       "\t\t<dd>9175</dd>\n",
       "\t<dt>Motorola</dt>\n",
       "\t\t<dd>7992</dd>\n",
       "\t<dt>Microsoft</dt>\n",
       "\t\t<dd>6384</dd>\n",
       "\t<dt>Doro AB</dt>\n",
       "\t\t<dd>5404</dd>\n",
       "\t<dt>Alcatel</dt>\n",
       "\t\t<dd>5283</dd>\n",
       "\t<dt>Enfora</dt>\n",
       "\t\t<dd>5253</dd>\n",
       "\t<dt>Tel.me</dt>\n",
       "\t\t<dd>4875</dd>\n",
       "\t<dt>Jablotron</dt>\n",
       "\t\t<dd>4571</dd>\n",
       "\t<dt>CK Telecom (Heyuan) Inc.</dt>\n",
       "\t\t<dd>4215</dd>\n",
       "\t<dt>One Comm</dt>\n",
       "\t\t<dd>3895</dd>\n",
       "\t<dt>Simcom</dt>\n",
       "\t\t<dd>3329</dd>\n",
       "\t<dt>Beafon</dt>\n",
       "\t\t<dd>3188</dd>\n",
       "\t<dt>Wavecom</dt>\n",
       "\t\t<dd>3147</dd>\n",
       "\t<dt>Simcom Ltd.</dt>\n",
       "\t\t<dd>2512</dd>\n",
       "\t<dt>RIM</dt>\n",
       "\t\t<dd>2305</dd>\n",
       "\t<dt>CHN International</dt>\n",
       "\t\t<dd>2271</dd>\n",
       "\t<dt>ZTE</dt>\n",
       "\t\t<dd>2155</dd>\n",
       "\t<dt>Newplan</dt>\n",
       "\t\t<dd>1855</dd>\n",
       "\t<dt>CAT</dt>\n",
       "\t\t<dd>1714</dd>\n",
       "\t<dt>SagemCom</dt>\n",
       "\t\t<dd>1401</dd>\n",
       "\t<dt>Avus</dt>\n",
       "\t\t<dd>1195</dd>\n",
       "\t<dt>Beijing Capitel Co Ltd</dt>\n",
       "\t\t<dd>1112</dd>\n",
       "\t<dt>Sagem</dt>\n",
       "\t\t<dd>1099</dd>\n",
       "\t<dt>TCT Mobile</dt>\n",
       "\t\t<dd>1026</dd>\n",
       "\t<dt>Archos</dt>\n",
       "\t\t<dd>1002</dd>\n",
       "\t<dt>unbekannt</dt>\n",
       "\t\t<dd>987</dd>\n",
       "\t<dt>Shenzhen</dt>\n",
       "\t\t<dd>944</dd>\n",
       "\t<dt>Ericsson</dt>\n",
       "\t\t<dd>864</dd>\n",
       "\t<dt>2K</dt>\n",
       "\t\t<dd>766</dd>\n",
       "\t<dt>Vitaphone</dt>\n",
       "\t\t<dd>655</dd>\n",
       "\t<dt>u-blox</dt>\n",
       "\t\t<dd>630</dd>\n",
       "\t<dt>Umeox Mobile</dt>\n",
       "\t\t<dd>623</dd>\n",
       "\t<dt>Dongguan Jie Wei Xun Electronics Co Ltd</dt>\n",
       "\t\t<dd>602</dd>\n",
       "\t<dt>Giant Electronics</dt>\n",
       "\t\t<dd>599</dd>\n",
       "\t<dt>Dai</dt>\n",
       "\t\t<dd>550</dd>\n",
       "\t<dt>Alpha Micro</dt>\n",
       "\t\t<dd>533</dd>\n",
       "\t<dt>Shenzhen Enjoy Science &amp; Technolgy Development Co</dt>\n",
       "\t\t<dd>355</dd>\n",
       "\t<dt>Sierra Wireless</dt>\n",
       "\t\t<dd>351</dd>\n",
       "\t<dt>Atral</dt>\n",
       "\t\t<dd>343</dd>\n",
       "\t<dt>Sando Industrial</dt>\n",
       "\t\t<dd>309</dd>\n",
       "\t<dt>TLT Digital Communication Development Co Ltd</dt>\n",
       "\t\t<dd>269</dd>\n",
       "\t<dt>Desay</dt>\n",
       "\t\t<dd>238</dd>\n",
       "\t<dt>Coolpad</dt>\n",
       "\t\t<dd>223</dd>\n",
       "\t<dt>Falcom/Funkanlagen Leipoldt</dt>\n",
       "\t\t<dd>223</dd>\n",
       "\t<dt>ASUSTeK</dt>\n",
       "\t\t<dd>221</dd>\n",
       "\t<dt>Black Berry Limited</dt>\n",
       "\t\t<dd>219</dd>\n",
       "\t<dt>I2SE</dt>\n",
       "\t\t<dd>219</dd>\n",
       "\t<dt>Binatone</dt>\n",
       "\t\t<dd>196</dd>\n",
       "\t<dt>Teltonika</dt>\n",
       "\t\t<dd>196</dd>\n",
       "\t<dt>Vodafone</dt>\n",
       "\t\t<dd>187</dd>\n",
       "\t<dt>Strategic Ventures</dt>\n",
       "\t\t<dd>171</dd>\n",
       "\t<dt>Shenzhen Unitone</dt>\n",
       "\t\t<dd>164</dd>\n",
       "\t<dt>Tesla</dt>\n",
       "\t\t<dd>146</dd>\n",
       "\t<dt>Enjoy</dt>\n",
       "\t\t<dd>135</dd>\n",
       "\t<dt>Enfora Inc.</dt>\n",
       "\t\t<dd>128</dd>\n",
       "\t<dt>Yinfitech</dt>\n",
       "\t\t<dd>127</dd>\n",
       "\t<dt>Autoliv</dt>\n",
       "\t\t<dd>120</dd>\n",
       "\t<dt>International Brand Distribution</dt>\n",
       "\t\t<dd>120</dd>\n",
       "\t<dt>Shenzhen KDI Communication Co Ltd</dt>\n",
       "\t\t<dd>114</dd>\n",
       "\t<dt>Umeox Mobile Limited</dt>\n",
       "\t\t<dd>114</dd>\n",
       "\t<dt>BenQ</dt>\n",
       "\t\t<dd>100</dd>\n",
       "\t<dt>Jinggangshan Huayu</dt>\n",
       "\t\t<dd>100</dd>\n",
       "\t<dt>Global China Technology Limited (GCT)</dt>\n",
       "\t\t<dd>99</dd>\n",
       "\t<dt>Hedy Holding</dt>\n",
       "\t\t<dd>96</dd>\n",
       "\t<dt>JabloCOM</dt>\n",
       "\t\t<dd>91</dd>\n",
       "\t<dt>Hyundai</dt>\n",
       "\t\t<dd>83</dd>\n",
       "\t<dt>Tixi</dt>\n",
       "\t\t<dd>82</dd>\n",
       "\t<dt>Zte</dt>\n",
       "\t\t<dd>82</dd>\n",
       "\t<dt>TCL</dt>\n",
       "\t\t<dd>79</dd>\n",
       "\t<dt>Garmin</dt>\n",
       "\t\t<dd>70</dd>\n",
       "\t<dt>Wingtech</dt>\n",
       "\t\t<dd>69</dd>\n",
       "\t<dt>Asustek Computer</dt>\n",
       "\t\t<dd>67</dd>\n",
       "\t<dt>CK Telecom</dt>\n",
       "\t\t<dd>66</dd>\n",
       "\t<dt>Magneti Marelli</dt>\n",
       "\t\t<dd>66</dd>\n",
       "\t<dt>HESA</dt>\n",
       "\t\t<dd>62</dd>\n",
       "\t<dt>Panasonic</dt>\n",
       "\t\t<dd>60</dd>\n",
       "\t<dt>Sonim Technologies</dt>\n",
       "\t\t<dd>60</dd>\n",
       "\t<dt>Quectel</dt>\n",
       "\t\t<dd>56</dd>\n",
       "\t<dt>ASUSTeK Computer Inc</dt>\n",
       "\t\t<dd>54</dd>\n",
       "\t<dt>High Tech</dt>\n",
       "\t\t<dd>53</dd>\n",
       "\t<dt>Ningbo Yidong</dt>\n",
       "\t\t<dd>53</dd>\n",
       "\t<dt>Sharp</dt>\n",
       "\t\t<dd>51</dd>\n",
       "\t<dt>Dowee Mobile Technology Co Ltd</dt>\n",
       "\t\t<dd>48</dd>\n",
       "\t<dt>Falt Communications</dt>\n",
       "\t\t<dd>48</dd>\n",
       "\t<dt>Medion</dt>\n",
       "\t\t<dd>45</dd>\n",
       "\t<dt>Hewlett Packard</dt>\n",
       "\t\t<dd>42</dd>\n",
       "\t<dt>Guangzhou Jinpeng Group Co Ltd</dt>\n",
       "\t\t<dd>41</dd>\n",
       "\t<dt>(Other)</dt>\n",
       "\t\t<dd>1212</dd>\n",
       "</dl>\n"
      ],
      "text/latex": [
       "\\begin{description*}\n",
       "\\item[Samsung] 318406\n",
       "\\item[2] 242076\n",
       "\\item[Nokia] 151931\n",
       "\\item[Apple] 99893\n",
       "\\item[Emporia] 44841\n",
       "\\item[LG Electronics] 37409\n",
       "\\item[Telit] 24449\n",
       "\\item[SONY] 23488\n",
       "\\item[Huawei] 18441\n",
       "\\item[Sony Ericsson] 17667\n",
       "\\item[HTC] 13935\n",
       "\\item[Cinterion Wireless Modules] 11121\n",
       "\\item[Siemens] 9175\n",
       "\\item[Motorola] 7992\n",
       "\\item[Microsoft] 6384\n",
       "\\item[Doro AB] 5404\n",
       "\\item[Alcatel] 5283\n",
       "\\item[Enfora] 5253\n",
       "\\item[Tel.me] 4875\n",
       "\\item[Jablotron] 4571\n",
       "\\item[CK Telecom (Heyuan) Inc.] 4215\n",
       "\\item[One Comm] 3895\n",
       "\\item[Simcom] 3329\n",
       "\\item[Beafon] 3188\n",
       "\\item[Wavecom] 3147\n",
       "\\item[Simcom Ltd.] 2512\n",
       "\\item[RIM] 2305\n",
       "\\item[CHN International] 2271\n",
       "\\item[ZTE] 2155\n",
       "\\item[Newplan] 1855\n",
       "\\item[CAT] 1714\n",
       "\\item[SagemCom] 1401\n",
       "\\item[Avus] 1195\n",
       "\\item[Beijing Capitel Co Ltd] 1112\n",
       "\\item[Sagem] 1099\n",
       "\\item[TCT Mobile] 1026\n",
       "\\item[Archos] 1002\n",
       "\\item[unbekannt] 987\n",
       "\\item[Shenzhen] 944\n",
       "\\item[Ericsson] 864\n",
       "\\item[2K] 766\n",
       "\\item[Vitaphone] 655\n",
       "\\item[u-blox] 630\n",
       "\\item[Umeox Mobile] 623\n",
       "\\item[Dongguan Jie Wei Xun Electronics Co Ltd] 602\n",
       "\\item[Giant Electronics] 599\n",
       "\\item[Dai] 550\n",
       "\\item[Alpha Micro] 533\n",
       "\\item[Shenzhen Enjoy Science \\textbackslash{}\\& Technolgy Development Co] 355\n",
       "\\item[Sierra Wireless] 351\n",
       "\\item[Atral] 343\n",
       "\\item[Sando Industrial] 309\n",
       "\\item[TLT Digital Communication Development Co Ltd] 269\n",
       "\\item[Desay] 238\n",
       "\\item[Coolpad] 223\n",
       "\\item[Falcom/Funkanlagen Leipoldt] 223\n",
       "\\item[ASUSTeK] 221\n",
       "\\item[Black Berry Limited] 219\n",
       "\\item[I2SE] 219\n",
       "\\item[Binatone] 196\n",
       "\\item[Teltonika] 196\n",
       "\\item[Vodafone] 187\n",
       "\\item[Strategic Ventures] 171\n",
       "\\item[Shenzhen Unitone] 164\n",
       "\\item[Tesla] 146\n",
       "\\item[Enjoy] 135\n",
       "\\item[Enfora Inc.] 128\n",
       "\\item[Yinfitech] 127\n",
       "\\item[Autoliv] 120\n",
       "\\item[International Brand Distribution] 120\n",
       "\\item[Shenzhen KDI Communication Co Ltd] 114\n",
       "\\item[Umeox Mobile Limited] 114\n",
       "\\item[BenQ] 100\n",
       "\\item[Jinggangshan Huayu] 100\n",
       "\\item[Global China Technology Limited (GCT)] 99\n",
       "\\item[Hedy Holding] 96\n",
       "\\item[JabloCOM] 91\n",
       "\\item[Hyundai] 83\n",
       "\\item[Tixi] 82\n",
       "\\item[Zte] 82\n",
       "\\item[TCL] 79\n",
       "\\item[Garmin] 70\n",
       "\\item[Wingtech] 69\n",
       "\\item[Asustek Computer] 67\n",
       "\\item[CK Telecom] 66\n",
       "\\item[Magneti Marelli] 66\n",
       "\\item[HESA] 62\n",
       "\\item[Panasonic] 60\n",
       "\\item[Sonim Technologies] 60\n",
       "\\item[Quectel] 56\n",
       "\\item[ASUSTeK Computer Inc] 54\n",
       "\\item[High Tech] 53\n",
       "\\item[Ningbo Yidong] 53\n",
       "\\item[Sharp] 51\n",
       "\\item[Dowee Mobile Technology Co Ltd] 48\n",
       "\\item[Falt Communications] 48\n",
       "\\item[Medion] 45\n",
       "\\item[Hewlett Packard] 42\n",
       "\\item[Guangzhou Jinpeng Group Co Ltd] 41\n",
       "\\item[(Other)] 1212\n",
       "\\end{description*}\n"
      ],
      "text/markdown": [
       "Samsung\n",
       ":   3184062\n",
       ":   242076Nokia\n",
       ":   151931Apple\n",
       ":   99893Emporia\n",
       ":   44841LG Electronics\n",
       ":   37409Telit\n",
       ":   24449SONY\n",
       ":   23488Huawei\n",
       ":   18441Sony Ericsson\n",
       ":   17667HTC\n",
       ":   13935Cinterion Wireless Modules\n",
       ":   11121Siemens\n",
       ":   9175Motorola\n",
       ":   7992Microsoft\n",
       ":   6384Doro AB\n",
       ":   5404Alcatel\n",
       ":   5283Enfora\n",
       ":   5253Tel.me\n",
       ":   4875Jablotron\n",
       ":   4571CK Telecom (Heyuan) Inc.\n",
       ":   4215One Comm\n",
       ":   3895Simcom\n",
       ":   3329Beafon\n",
       ":   3188Wavecom\n",
       ":   3147Simcom Ltd.\n",
       ":   2512RIM\n",
       ":   2305CHN International\n",
       ":   2271ZTE\n",
       ":   2155Newplan\n",
       ":   1855CAT\n",
       ":   1714SagemCom\n",
       ":   1401Avus\n",
       ":   1195Beijing Capitel Co Ltd\n",
       ":   1112Sagem\n",
       ":   1099TCT Mobile\n",
       ":   1026Archos\n",
       ":   1002unbekannt\n",
       ":   987Shenzhen\n",
       ":   944Ericsson\n",
       ":   8642K\n",
       ":   766Vitaphone\n",
       ":   655u-blox\n",
       ":   630Umeox Mobile\n",
       ":   623Dongguan Jie Wei Xun Electronics Co Ltd\n",
       ":   602Giant Electronics\n",
       ":   599Dai\n",
       ":   550Alpha Micro\n",
       ":   533Shenzhen Enjoy Science &amp;amp; Technolgy Development Co\n",
       ":   355Sierra Wireless\n",
       ":   351Atral\n",
       ":   343Sando Industrial\n",
       ":   309TLT Digital Communication Development Co Ltd\n",
       ":   269Desay\n",
       ":   238Coolpad\n",
       ":   223Falcom/Funkanlagen Leipoldt\n",
       ":   223ASUSTeK\n",
       ":   221Black Berry Limited\n",
       ":   219I2SE\n",
       ":   219Binatone\n",
       ":   196Teltonika\n",
       ":   196Vodafone\n",
       ":   187Strategic Ventures\n",
       ":   171Shenzhen Unitone\n",
       ":   164Tesla\n",
       ":   146Enjoy\n",
       ":   135Enfora Inc.\n",
       ":   128Yinfitech\n",
       ":   127Autoliv\n",
       ":   120International Brand Distribution\n",
       ":   120Shenzhen KDI Communication Co Ltd\n",
       ":   114Umeox Mobile Limited\n",
       ":   114BenQ\n",
       ":   100Jinggangshan Huayu\n",
       ":   100Global China Technology Limited (GCT)\n",
       ":   99Hedy Holding\n",
       ":   96JabloCOM\n",
       ":   91Hyundai\n",
       ":   83Tixi\n",
       ":   82Zte\n",
       ":   82TCL\n",
       ":   79Garmin\n",
       ":   70Wingtech\n",
       ":   69Asustek Computer\n",
       ":   67CK Telecom\n",
       ":   66Magneti Marelli\n",
       ":   66HESA\n",
       ":   62Panasonic\n",
       ":   60Sonim Technologies\n",
       ":   60Quectel\n",
       ":   56ASUSTeK Computer Inc\n",
       ":   54High Tech\n",
       ":   53Ningbo Yidong\n",
       ":   53Sharp\n",
       ":   51Dowee Mobile Technology Co Ltd\n",
       ":   48Falt Communications\n",
       ":   48Medion\n",
       ":   45Hewlett Packard\n",
       ":   42Guangzhou Jinpeng Group Co Ltd\n",
       ":   41(Other)\n",
       ":   1212\n",
       "\n"
      ],
      "text/plain": [
       "                                          Samsung \n",
       "                                           318406 \n",
       "                                                  \n",
       "                                           242076 \n",
       "                                            Nokia \n",
       "                                           151931 \n",
       "                                            Apple \n",
       "                                            99893 \n",
       "                                          Emporia \n",
       "                                            44841 \n",
       "                                   LG Electronics \n",
       "                                            37409 \n",
       "                                            Telit \n",
       "                                            24449 \n",
       "                                             SONY \n",
       "                                            23488 \n",
       "                                           Huawei \n",
       "                                            18441 \n",
       "                                    Sony Ericsson \n",
       "                                            17667 \n",
       "                                              HTC \n",
       "                                            13935 \n",
       "                       Cinterion Wireless Modules \n",
       "                                            11121 \n",
       "                                          Siemens \n",
       "                                             9175 \n",
       "                                         Motorola \n",
       "                                             7992 \n",
       "                                        Microsoft \n",
       "                                             6384 \n",
       "                                          Doro AB \n",
       "                                             5404 \n",
       "                                          Alcatel \n",
       "                                             5283 \n",
       "                                           Enfora \n",
       "                                             5253 \n",
       "                                           Tel.me \n",
       "                                             4875 \n",
       "                                        Jablotron \n",
       "                                             4571 \n",
       "                         CK Telecom (Heyuan) Inc. \n",
       "                                             4215 \n",
       "                                         One Comm \n",
       "                                             3895 \n",
       "                                           Simcom \n",
       "                                             3329 \n",
       "                                           Beafon \n",
       "                                             3188 \n",
       "                                          Wavecom \n",
       "                                             3147 \n",
       "                                      Simcom Ltd. \n",
       "                                             2512 \n",
       "                                              RIM \n",
       "                                             2305 \n",
       "                                CHN International \n",
       "                                             2271 \n",
       "                                              ZTE \n",
       "                                             2155 \n",
       "                                          Newplan \n",
       "                                             1855 \n",
       "                                              CAT \n",
       "                                             1714 \n",
       "                                         SagemCom \n",
       "                                             1401 \n",
       "                                             Avus \n",
       "                                             1195 \n",
       "                           Beijing Capitel Co Ltd \n",
       "                                             1112 \n",
       "                                            Sagem \n",
       "                                             1099 \n",
       "                                       TCT Mobile \n",
       "                                             1026 \n",
       "                                           Archos \n",
       "                                             1002 \n",
       "                                        unbekannt \n",
       "                                              987 \n",
       "                                         Shenzhen \n",
       "                                              944 \n",
       "                                         Ericsson \n",
       "                                              864 \n",
       "                                               2K \n",
       "                                              766 \n",
       "                                        Vitaphone \n",
       "                                              655 \n",
       "                                           u-blox \n",
       "                                              630 \n",
       "                                     Umeox Mobile \n",
       "                                              623 \n",
       "          Dongguan Jie Wei Xun Electronics Co Ltd \n",
       "                                              602 \n",
       "                                Giant Electronics \n",
       "                                              599 \n",
       "                                              Dai \n",
       "                                              550 \n",
       "                                      Alpha Micro \n",
       "                                              533 \n",
       "Shenzhen Enjoy Science & Technolgy Development Co \n",
       "                                              355 \n",
       "                                  Sierra Wireless \n",
       "                                              351 \n",
       "                                            Atral \n",
       "                                              343 \n",
       "                                 Sando Industrial \n",
       "                                              309 \n",
       "     TLT Digital Communication Development Co Ltd \n",
       "                                              269 \n",
       "                                            Desay \n",
       "                                              238 \n",
       "                                          Coolpad \n",
       "                                              223 \n",
       "                      Falcom/Funkanlagen Leipoldt \n",
       "                                              223 \n",
       "                                          ASUSTeK \n",
       "                                              221 \n",
       "                              Black Berry Limited \n",
       "                                              219 \n",
       "                                             I2SE \n",
       "                                              219 \n",
       "                                         Binatone \n",
       "                                              196 \n",
       "                                        Teltonika \n",
       "                                              196 \n",
       "                                         Vodafone \n",
       "                                              187 \n",
       "                               Strategic Ventures \n",
       "                                              171 \n",
       "                                 Shenzhen Unitone \n",
       "                                              164 \n",
       "                                            Tesla \n",
       "                                              146 \n",
       "                                            Enjoy \n",
       "                                              135 \n",
       "                                      Enfora Inc. \n",
       "                                              128 \n",
       "                                        Yinfitech \n",
       "                                              127 \n",
       "                                          Autoliv \n",
       "                                              120 \n",
       "                 International Brand Distribution \n",
       "                                              120 \n",
       "                Shenzhen KDI Communication Co Ltd \n",
       "                                              114 \n",
       "                             Umeox Mobile Limited \n",
       "                                              114 \n",
       "                                             BenQ \n",
       "                                              100 \n",
       "                               Jinggangshan Huayu \n",
       "                                              100 \n",
       "            Global China Technology Limited (GCT) \n",
       "                                               99 \n",
       "                                     Hedy Holding \n",
       "                                               96 \n",
       "                                         JabloCOM \n",
       "                                               91 \n",
       "                                          Hyundai \n",
       "                                               83 \n",
       "                                             Tixi \n",
       "                                               82 \n",
       "                                              Zte \n",
       "                                               82 \n",
       "                                              TCL \n",
       "                                               79 \n",
       "                                           Garmin \n",
       "                                               70 \n",
       "                                         Wingtech \n",
       "                                               69 \n",
       "                                 Asustek Computer \n",
       "                                               67 \n",
       "                                       CK Telecom \n",
       "                                               66 \n",
       "                                  Magneti Marelli \n",
       "                                               66 \n",
       "                                             HESA \n",
       "                                               62 \n",
       "                                        Panasonic \n",
       "                                               60 \n",
       "                               Sonim Technologies \n",
       "                                               60 \n",
       "                                          Quectel \n",
       "                                               56 \n",
       "                             ASUSTeK Computer Inc \n",
       "                                               54 \n",
       "                                        High Tech \n",
       "                                               53 \n",
       "                                    Ningbo Yidong \n",
       "                                               53 \n",
       "                                            Sharp \n",
       "                                               51 \n",
       "                   Dowee Mobile Technology Co Ltd \n",
       "                                               48 \n",
       "                              Falt Communications \n",
       "                                               48 \n",
       "                                           Medion \n",
       "                                               45 \n",
       "                                  Hewlett Packard \n",
       "                                               42 \n",
       "                   Guangzhou Jinpeng Group Co Ltd \n",
       "                                               41 \n",
       "                                          (Other) \n",
       "                                             1212 "
      ]
     },
     "metadata": {},
     "output_type": "display_data"
    }
   ],
   "source": [
    "summary(data$device_brand_cd)\n",
    "data$device_brand <- ifelse(as.character(data$device_brand_cd) == \"\",\"NULL\",as.character(data$device_brand_cd))\n",
    "brands <- c(\"Samsung\",\"Nokia\",\"Apple\",\"NULL\")\n",
    "data$device_brand <- factor(ifelse(!(data$device_brand %in% brands),\"OTHER\",data$device_brand))"
   ]
  },
  {
   "cell_type": "code",
   "execution_count": 11,
   "metadata": {
    "collapsed": false
   },
   "outputs": [
    {
     "data": {
      "text/html": [
       "<dl class=dl-horizontal>\n",
       "\t<dt>Apple</dt>\n",
       "\t\t<dd>99893</dd>\n",
       "\t<dt>Nokia</dt>\n",
       "\t\t<dd>151931</dd>\n",
       "\t<dt>NULL</dt>\n",
       "\t\t<dd>242076</dd>\n",
       "\t<dt>OTHER</dt>\n",
       "\t\t<dd>293385</dd>\n",
       "\t<dt>Samsung</dt>\n",
       "\t\t<dd>318406</dd>\n",
       "</dl>\n"
      ],
      "text/latex": [
       "\\begin{description*}\n",
       "\\item[Apple] 99893\n",
       "\\item[Nokia] 151931\n",
       "\\item[NULL] 242076\n",
       "\\item[OTHER] 293385\n",
       "\\item[Samsung] 318406\n",
       "\\end{description*}\n"
      ],
      "text/markdown": [
       "Apple\n",
       ":   99893Nokia\n",
       ":   151931NULL\n",
       ":   242076OTHER\n",
       ":   293385Samsung\n",
       ":   318406\n",
       "\n"
      ],
      "text/plain": [
       "  Apple   Nokia    NULL   OTHER Samsung \n",
       "  99893  151931  242076  293385  318406 "
      ]
     },
     "metadata": {},
     "output_type": "display_data"
    },
    {
     "data": {},
     "metadata": {},
     "output_type": "display_data"
    }
   ],
   "source": [
    "summary(data$device_brand)\n",
    "data[,device_brand_cd:=NULL]"
   ]
  },
  {
   "cell_type": "code",
   "execution_count": 12,
   "metadata": {
    "collapsed": false
   },
   "outputs": [
    {
     "data": {},
     "metadata": {},
     "output_type": "display_data"
    },
    {
     "data": {
      "text/html": [
       "<dl class=dl-horizontal>\n",
       "\t<dt>OTHER</dt>\n",
       "\t\t<dd>74364</dd>\n",
       "\t<dt>RES</dt>\n",
       "\t\t<dd>1031327</dd>\n",
       "</dl>\n"
      ],
      "text/latex": [
       "\\begin{description*}\n",
       "\\item[OTHER] 74364\n",
       "\\item[RES] 1031327\n",
       "\\end{description*}\n"
      ],
      "text/markdown": [
       "OTHER\n",
       ":   74364RES\n",
       ":   1031327\n",
       "\n"
      ],
      "text/plain": [
       "  OTHER     RES \n",
       "  74364 1031327 "
      ]
     },
     "metadata": {},
     "output_type": "display_data"
    }
   ],
   "source": [
    "data$Seg <- ifelse(as.character(data$Seg_Cd) == \"RES\",\"RES\",\"OTHER\")\n",
    "data$Seg <- factor(data$Seg)\n",
    "data[,Seg_Cd:=NULL]\n",
    "summary(data$Seg)"
   ]
  },
  {
   "cell_type": "code",
   "execution_count": 13,
   "metadata": {
    "collapsed": false
   },
   "outputs": [
    {
     "data": {
      "text/html": [
       "<table>\n",
       "<thead><tr><th scope=col>Gender_Cd</th><th scope=col>count</th><th scope=col>churn_rate</th></tr></thead>\n",
       "<tbody>\n",
       "\t<tr><td>F          </td><td>520871     </td><td>0.022752275</td></tr>\n",
       "\t<tr><td>M          </td><td>584226     </td><td>0.020011092</td></tr>\n",
       "\t<tr><td>           </td><td>   594     </td><td>0.003367003</td></tr>\n",
       "</tbody>\n",
       "</table>\n"
      ],
      "text/latex": [
       "\\begin{tabular}{r|lll}\n",
       " Gender\\_Cd & count & churn\\_rate\\\\\n",
       "\\hline\n",
       "\t F           & 520871      & 0.022752275\\\\\n",
       "\t M           & 584226      & 0.020011092\\\\\n",
       "\t             &    594      & 0.003367003\\\\\n",
       "\\end{tabular}\n"
      ],
      "text/markdown": [
       "\n",
       "Gender_Cd | count | churn_rate | \n",
       "|---|---|---|\n",
       "| F           | 520871      | 0.022752275 | \n",
       "| M           | 584226      | 0.020011092 | \n",
       "|             |    594      | 0.003367003 | \n",
       "\n",
       "\n"
      ],
      "text/plain": [
       "  Gender_Cd count  churn_rate \n",
       "1 F         520871 0.022752275\n",
       "2 M         584226 0.020011092\n",
       "3              594 0.003367003"
      ]
     },
     "metadata": {},
     "output_type": "display_data"
    }
   ],
   "source": [
    "data[,.(count = .N, churn_rate = mean(target_ind)),by=Gender_Cd]"
   ]
  },
  {
   "cell_type": "code",
   "execution_count": 14,
   "metadata": {
    "collapsed": false
   },
   "outputs": [
    {
     "data": {},
     "metadata": {},
     "output_type": "display_data"
    }
   ],
   "source": [
    "data$Gender <- ifelse(as.character(data$Gender_Cd) == \"\",\"M\",as.character(data$Gender_Cd))\n",
    "data$Gender <- as.factor(data$Gender)\n",
    "data[,Gender_Cd:=NULL]"
   ]
  },
  {
   "cell_type": "code",
   "execution_count": 15,
   "metadata": {
    "collapsed": false
   },
   "outputs": [
    {
     "data": {
      "text/html": [
       "<table>\n",
       "<thead><tr><th scope=col>province_cd</th><th scope=col>count</th><th scope=col>churn_rate</th></tr></thead>\n",
       "<tbody>\n",
       "\t<tr><td>NÃ–       </td><td>290732    </td><td>0.01957129</td></tr>\n",
       "\t<tr><td>V         </td><td> 44137    </td><td>0.02145592</td></tr>\n",
       "\t<tr><td>T         </td><td> 70969    </td><td>0.02274232</td></tr>\n",
       "\t<tr><td>OÃ–       </td><td>199176    </td><td>0.02250773</td></tr>\n",
       "\t<tr><td>W         </td><td>240332    </td><td>0.02264368</td></tr>\n",
       "\t<tr><td>K         </td><td> 48562    </td><td>0.02116882</td></tr>\n",
       "\t<tr><td>St        </td><td>119479    </td><td>0.02005373</td></tr>\n",
       "\t<tr><td>S         </td><td> 42778    </td><td>0.02162326</td></tr>\n",
       "\t<tr><td>B         </td><td> 40113    </td><td>0.01949493</td></tr>\n",
       "\t<tr><td>          </td><td>  9413    </td><td>0.02517795</td></tr>\n",
       "</tbody>\n",
       "</table>\n"
      ],
      "text/latex": [
       "\\begin{tabular}{r|lll}\n",
       " province\\_cd & count & churn\\_rate\\\\\n",
       "\\hline\n",
       "\t NÃ–        & 290732     & 0.01957129\\\\\n",
       "\t V          &  44137     & 0.02145592\\\\\n",
       "\t T          &  70969     & 0.02274232\\\\\n",
       "\t OÃ–        & 199176     & 0.02250773\\\\\n",
       "\t W          & 240332     & 0.02264368\\\\\n",
       "\t K          &  48562     & 0.02116882\\\\\n",
       "\t St         & 119479     & 0.02005373\\\\\n",
       "\t S          &  42778     & 0.02162326\\\\\n",
       "\t B          &  40113     & 0.01949493\\\\\n",
       "\t            &   9413     & 0.02517795\\\\\n",
       "\\end{tabular}\n"
      ],
      "text/markdown": [
       "\n",
       "province_cd | count | churn_rate | \n",
       "|---|---|---|---|---|---|---|---|---|---|\n",
       "| NÃ–        | 290732     | 0.01957129 | \n",
       "| V          |  44137     | 0.02145592 | \n",
       "| T          |  70969     | 0.02274232 | \n",
       "| OÃ–        | 199176     | 0.02250773 | \n",
       "| W          | 240332     | 0.02264368 | \n",
       "| K          |  48562     | 0.02116882 | \n",
       "| St         | 119479     | 0.02005373 | \n",
       "| S          |  42778     | 0.02162326 | \n",
       "| B          |  40113     | 0.01949493 | \n",
       "|            |   9413     | 0.02517795 | \n",
       "\n",
       "\n"
      ],
      "text/plain": [
       "   province_cd count  churn_rate\n",
       "1  NÃ         290732 0.01957129\n",
       "2  V            44137 0.02145592\n",
       "3  T            70969 0.02274232\n",
       "4  OÃ         199176 0.02250773\n",
       "5  W           240332 0.02264368\n",
       "6  K            48562 0.02116882\n",
       "7  St          119479 0.02005373\n",
       "8  S            42778 0.02162326\n",
       "9  B            40113 0.01949493\n",
       "10               9413 0.02517795"
      ]
     },
     "metadata": {},
     "output_type": "display_data"
    }
   ],
   "source": [
    "data[,.(count = .N, churn_rate = mean(target_ind)),by=province_cd]"
   ]
  },
  {
   "cell_type": "code",
   "execution_count": 16,
   "metadata": {
    "collapsed": false
   },
   "outputs": [
    {
     "data": {},
     "metadata": {},
     "output_type": "display_data"
    }
   ],
   "source": [
    "data$province <- ifelse(as.character(data$province_cd) == \"\",\"NULL\",as.character(data$province_cd))\n",
    "data$province <- as.factor(data$province)\n",
    "data[,province_cd:=NULL]"
   ]
  },
  {
   "cell_type": "code",
   "execution_count": 17,
   "metadata": {
    "collapsed": false
   },
   "outputs": [
    {
     "data": {
      "image/png": "[encoded data removed]"
     },
     "metadata": {},
     "output_type": "display_data"
    }
   ],
   "source": [
    "hist(data$census_population_cnt)"
   ]
  },
  {
   "cell_type": "code",
   "execution_count": 18,
   "metadata": {
    "collapsed": false
   },
   "outputs": [
    {
     "data": {
      "text/html": [
       "1404"
      ],
      "text/latex": [
       "1404"
      ],
      "text/markdown": [
       "1404"
      ],
      "text/plain": [
       "[1] 1404"
      ]
     },
     "metadata": {},
     "output_type": "display_data"
    },
    {
     "data": {
      "text/html": [
       "<table>\n",
       "<thead><tr><th scope=col>census_population_cd</th><th scope=col>N</th></tr></thead>\n",
       "<tbody>\n",
       "\t<tr><td>bis zu 2.000 EW</td><td>63286          </td></tr>\n",
       "\t<tr><td>               </td><td>27164          </td></tr>\n",
       "</tbody>\n",
       "</table>\n"
      ],
      "text/latex": [
       "\\begin{tabular}{r|ll}\n",
       " census\\_population\\_cd & N\\\\\n",
       "\\hline\n",
       "\t bis zu 2.000 EW & 63286          \\\\\n",
       "\t                 & 27164          \\\\\n",
       "\\end{tabular}\n"
      ],
      "text/markdown": [
       "\n",
       "census_population_cd | N | \n",
       "|---|---|\n",
       "| bis zu 2.000 EW | 63286           | \n",
       "|                 | 27164           | \n",
       "\n",
       "\n"
      ],
      "text/plain": [
       "  census_population_cd N    \n",
       "1 bis zu 2.000 EW      63286\n",
       "2                      27164"
      ]
     },
     "metadata": {},
     "output_type": "display_data"
    }
   ],
   "source": [
    "census_cnt_repl <- with(data, round(mean(census_population_cnt[as.character(census_population_cd) == \"bis zu 2.000 EW\"],na.rm=TRUE)))\n",
    "census_cnt_repl\n",
    "data[is.na(census_population_cnt),.N,by=census_population_cd]"
   ]
  },
  {
   "cell_type": "code",
   "execution_count": 19,
   "metadata": {
    "collapsed": true
   },
   "outputs": [],
   "source": [
    "data$census_population_cnt[is.na(data$census_population_cnt)] <- census_cnt_repl"
   ]
  },
  {
   "cell_type": "markdown",
   "metadata": {},
   "source": [
    "## Identify and remove features with zero variance (i.e. constants)"
   ]
  },
  {
   "cell_type": "code",
   "execution_count": 20,
   "metadata": {
    "collapsed": false
   },
   "outputs": [
    {
     "data": {
      "text/html": [
       "'no_data_usage_ind'"
      ],
      "text/latex": [
       "'no\\_data\\_usage\\_ind'"
      ],
      "text/markdown": [
       "'no_data_usage_ind'"
      ],
      "text/plain": [
       "[1] \"no_data_usage_ind\""
      ]
     },
     "metadata": {},
     "output_type": "display_data"
    }
   ],
   "source": [
    "var0 <- unlist(lapply(data, function(x) 0 == var(if (is.factor(x)) as.integer(x) else x)))\n",
    "remove <- names(var0[var0 == TRUE])\n",
    "remove"
   ]
  },
  {
   "cell_type": "code",
   "execution_count": 21,
   "metadata": {
    "collapsed": false
   },
   "outputs": [
    {
     "data": {},
     "metadata": {},
     "output_type": "display_data"
    }
   ],
   "source": [
    "data[,no_data_usage_ind:=NULL]"
   ]
  },
  {
   "cell_type": "code",
   "execution_count": 22,
   "metadata": {
    "collapsed": false
   },
   "outputs": [
    {
     "data": {
      "text/plain": [
       "\n",
       "      0       1       2       3       4       5       6       7       8       9 \n",
       "1098141    5941    1206     269      77      32      14       3       2       2 \n",
       "     11      13 \n",
       "      2       2 "
      ]
     },
     "metadata": {},
     "output_type": "display_data"
    }
   ],
   "source": [
    "table(data$HV_Cnt)"
   ]
  },
  {
   "cell_type": "code",
   "execution_count": 23,
   "metadata": {
    "collapsed": false
   },
   "outputs": [
    {
     "data": {
      "text/html": [
       "<dl class=dl-horizontal>\n",
       "\t<dt>Unknown</dt>\n",
       "\t\t<dd>598022</dd>\n",
       "\t<dt>UNKNOWN</dt>\n",
       "\t\t<dd>507669</dd>\n",
       "</dl>\n"
      ],
      "text/latex": [
       "\\begin{description*}\n",
       "\\item[Unknown] 598022\n",
       "\\item[UNKNOWN] 507669\n",
       "\\end{description*}\n"
      ],
      "text/markdown": [
       "Unknown\n",
       ":   598022UNKNOWN\n",
       ":   507669\n",
       "\n"
      ],
      "text/plain": [
       "Unknown UNKNOWN \n",
       " 598022  507669 "
      ]
     },
     "metadata": {},
     "output_type": "display_data"
    },
    {
     "data": {},
     "metadata": {},
     "output_type": "display_data"
    }
   ],
   "source": [
    "summary(data$combi_cd)\n",
    "data[,combi_cd:=NULL]"
   ]
  },
  {
   "cell_type": "code",
   "execution_count": 24,
   "metadata": {
    "collapsed": false
   },
   "outputs": [
    {
     "data": {
      "text/plain": [
       "\n",
       "     0      1      2      3      7 \n",
       "399556   2936      2     44 703153 "
      ]
     },
     "metadata": {},
     "output_type": "display_data"
    }
   ],
   "source": [
    "table(data$adv_key)\n",
    "data$adv_key <- factor(ifelse(data$adv_key > 0 & data$adv_key < 7,1,data$adv_key))"
   ]
  },
  {
   "cell_type": "code",
   "execution_count": 25,
   "metadata": {
    "collapsed": false
   },
   "outputs": [
    {
     "data": {},
     "metadata": {},
     "output_type": "display_data"
    }
   ],
   "source": [
    "data[,t_LV_Cnt:=NULL]"
   ]
  },
  {
   "cell_type": "markdown",
   "metadata": {},
   "source": [
    "## Convert target_ind to factor variable"
   ]
  },
  {
   "cell_type": "code",
   "execution_count": 26,
   "metadata": {
    "collapsed": true
   },
   "outputs": [],
   "source": [
    "data$target_ind <- factor(data$target_ind)"
   ]
  },
  {
   "cell_type": "markdown",
   "metadata": {},
   "source": [
    "## Sample non-churners (8:1 ratio of non-churners:churners)"
   ]
  },
  {
   "cell_type": "code",
   "execution_count": 27,
   "metadata": {
    "collapsed": true
   },
   "outputs": [],
   "source": [
    "train <- data[data$report_period_m_cd == 201607]\n",
    "prediction <- data[data$report_period_m_cd == 201609]\n",
    "\n",
    "churners <- train[train$target_ind == \"1\",]\n",
    "non_churners <- train[train$target_ind == \"0\",]\n",
    "set.seed(1)\n",
    "non_churn_samp <- non_churners[sample(nrow(non_churners),nrow(churners)*8,replace = FALSE),]\n",
    "train <- rbind(churners,non_churn_samp)\n",
    "\n",
    "rm(churners);rm(non_churners);rm(non_churn_samp)"
   ]
  },
  {
   "cell_type": "code",
   "execution_count": 28,
   "metadata": {
    "collapsed": false
   },
   "outputs": [
    {
     "name": "stdout",
     "output_type": "stream",
     "text": [
      "[1] 96885    61\n",
      "[1] 551212     61\n"
     ]
    }
   ],
   "source": [
    "print(dim(train))\n",
    "print(dim(prediction))"
   ]
  },
  {
   "cell_type": "markdown",
   "metadata": {},
   "source": [
    "## Run Model"
   ]
  },
  {
   "cell_type": "code",
   "execution_count": 29,
   "metadata": {
    "collapsed": false
   },
   "outputs": [
    {
     "name": "stderr",
     "output_type": "stream",
     "text": [
      "randomForest 4.6-12\n",
      "Type rfNews() to see new features/changes/bug fixes.\n",
      "\n",
      "Attaching package: 'randomForest'\n",
      "\n",
      "The following object is masked from 'package:ggplot2':\n",
      "\n",
      "    margin\n",
      "\n"
     ]
    }
   ],
   "source": [
    "library(randomForest)\n",
    "set.seed(123)\n",
    "bob_churn.rf <- randomForest(target_ind ~ . -subscriber_key-report_period_m_cd, data = train, ntree = 200)"
   ]
  },
  {
   "cell_type": "code",
   "execution_count": 30,
   "metadata": {
    "collapsed": false
   },
   "outputs": [
    {
     "data": {
      "text/plain": [
       "\n",
       "Call:\n",
       " randomForest(formula = target_ind ~ . - subscriber_key - report_period_m_cd,      data = train, ntree = 200) \n",
       "               Type of random forest: classification\n",
       "                     Number of trees: 200\n",
       "No. of variables tried at each split: 7\n",
       "\n",
       "        OOB estimate of  error rate: 9.84%\n",
       "Confusion matrix:\n",
       "      0    1 class.error\n",
       "0 85944  176  0.00204366\n",
       "1  9362 1403  0.86967023"
      ]
     },
     "metadata": {},
     "output_type": "display_data"
    }
   ],
   "source": [
    "bob_churn.rf"
   ]
  },
  {
   "cell_type": "markdown",
   "metadata": {},
   "source": [
    "## Generate Predictions"
   ]
  },
  {
   "cell_type": "code",
   "execution_count": 31,
   "metadata": {
    "collapsed": true
   },
   "outputs": [],
   "source": [
    "rf.pred <- predict(bob_churn.rf, prediction, type = 'prob')"
   ]
  },
  {
   "cell_type": "code",
   "execution_count": 33,
   "metadata": {
    "collapsed": false
   },
   "outputs": [],
   "source": [
    "library(dplyr)\n",
    "rf.results <- data.frame(prediction[,c(\"subscriber_key\",\"target_ind\"),with=FALSE], data.frame(rf.pred)[\"X1\"])\n",
    "output <- rf.results %>% mutate(PERCENTILE = ntile(X1, 100))"
   ]
  },
  {
   "cell_type": "code",
   "execution_count": 34,
   "metadata": {
    "collapsed": false
   },
   "outputs": [
    {
     "name": "stderr",
     "output_type": "stream",
     "text": [
      "------------------------------------------------------------------------------\n",
      "You have loaded plyr after dplyr - this is likely to cause problems.\n",
      "If you need functions from both plyr and dplyr, please load plyr first, then dplyr:\n",
      "library(plyr); library(dplyr)\n",
      "------------------------------------------------------------------------------\n",
      "\n",
      "Attaching package: 'plyr'\n",
      "\n",
      "The following objects are masked from 'package:dplyr':\n",
      "\n",
      "    arrange, count, desc, failwith, id, mutate, rename, summarise,\n",
      "    summarize\n",
      "\n"
     ]
    }
   ],
   "source": [
    "library(plyr)\n",
    "output <- plyr::rename(output, c(\"X1\"=\"SCORE\"))\n",
    "output <- output[with(output, order(-SCORE)),]\n",
    "output <- data.table(output)"
   ]
  },
  {
   "cell_type": "markdown",
   "metadata": {},
   "source": [
    "## Evaluate predictions for Top 10% scores"
   ]
  },
  {
   "cell_type": "code",
   "execution_count": 37,
   "metadata": {
    "collapsed": false
   },
   "outputs": [
    {
     "data": {},
     "metadata": {},
     "output_type": "display_data"
    },
    {
     "data": {},
     "metadata": {},
     "output_type": "display_data"
    },
    {
     "data": {
      "text/html": [
       "<table>\n",
       "<thead><tr><th scope=col>PERCENTILE</th><th scope=col>cum_subs</th><th scope=col>cum_churners</th><th scope=col>cum_lift</th></tr></thead>\n",
       "<tbody>\n",
       "\t<tr><td>100     </td><td> 5512   </td><td> 891    </td><td>6.972528</td></tr>\n",
       "\t<tr><td> 99     </td><td>11024   </td><td>1458    </td><td>5.704796</td></tr>\n",
       "\t<tr><td> 98     </td><td>16536   </td><td>1887    </td><td>4.922245</td></tr>\n",
       "\t<tr><td> 97     </td><td>22048   </td><td>2286    </td><td>4.472278</td></tr>\n",
       "\t<tr><td> 96     </td><td>27560   </td><td>2634    </td><td>4.122478</td></tr>\n",
       "\t<tr><td> 95     </td><td>33072   </td><td>2992    </td><td>3.902320</td></tr>\n",
       "\t<tr><td> 94     </td><td>38584   </td><td>3319    </td><td>3.710409</td></tr>\n",
       "\t<tr><td> 93     </td><td>44096   </td><td>3628    </td><td>3.548868</td></tr>\n",
       "\t<tr><td> 92     </td><td>49609   </td><td>3911    </td><td>3.400550</td></tr>\n",
       "\t<tr><td> 91     </td><td>55121   </td><td>4193    </td><td>3.281176</td></tr>\n",
       "</tbody>\n",
       "</table>\n"
      ],
      "text/latex": [
       "\\begin{tabular}{r|llll}\n",
       " PERCENTILE & cum\\_subs & cum\\_churners & cum\\_lift\\\\\n",
       "\\hline\n",
       "\t 100      &  5512    &  891     & 6.972528\\\\\n",
       "\t  99      & 11024    & 1458     & 5.704796\\\\\n",
       "\t  98      & 16536    & 1887     & 4.922245\\\\\n",
       "\t  97      & 22048    & 2286     & 4.472278\\\\\n",
       "\t  96      & 27560    & 2634     & 4.122478\\\\\n",
       "\t  95      & 33072    & 2992     & 3.902320\\\\\n",
       "\t  94      & 38584    & 3319     & 3.710409\\\\\n",
       "\t  93      & 44096    & 3628     & 3.548868\\\\\n",
       "\t  92      & 49609    & 3911     & 3.400550\\\\\n",
       "\t  91      & 55121    & 4193     & 3.281176\\\\\n",
       "\\end{tabular}\n"
      ],
      "text/markdown": [
       "\n",
       "PERCENTILE | cum_subs | cum_churners | cum_lift | \n",
       "|---|---|---|---|---|---|---|---|---|---|\n",
       "| 100      |  5512    |  891     | 6.972528 | \n",
       "|  99      | 11024    | 1458     | 5.704796 | \n",
       "|  98      | 16536    | 1887     | 4.922245 | \n",
       "|  97      | 22048    | 2286     | 4.472278 | \n",
       "|  96      | 27560    | 2634     | 4.122478 | \n",
       "|  95      | 33072    | 2992     | 3.902320 | \n",
       "|  94      | 38584    | 3319     | 3.710409 | \n",
       "|  93      | 44096    | 3628     | 3.548868 | \n",
       "|  92      | 49609    | 3911     | 3.400550 | \n",
       "|  91      | 55121    | 4193     | 3.281176 | \n",
       "\n",
       "\n"
      ],
      "text/plain": [
       "   PERCENTILE cum_subs cum_churners cum_lift\n",
       "1  100         5512     891         6.972528\n",
       "2   99        11024    1458         5.704796\n",
       "3   98        16536    1887         4.922245\n",
       "4   97        22048    2286         4.472278\n",
       "5   96        27560    2634         4.122478\n",
       "6   95        33072    2992         3.902320\n",
       "7   94        38584    3319         3.710409\n",
       "8   93        44096    3628         3.548868\n",
       "9   92        49609    3911         3.400550\n",
       "10  91        55121    4193         3.281176"
      ]
     },
     "metadata": {},
     "output_type": "display_data"
    }
   ],
   "source": [
    "bg_churn <- mean(as.numeric(as.character(output$target_ind)))\n",
    "top10 <- output[,.(.N,sum(as.numeric(as.character(target_ind)))),by=PERCENTILE][1:10]\n",
    "top10$cum_subs <- cumsum(top10$N)\n",
    "top10$cum_churners <- cumsum(top10$V2)\n",
    "top10$cum_lift <- (top10$cum_churners/top10$cum_subs)/bg_churn\n",
    "top10[,N:=NULL]\n",
    "top10[,V2:=NULL]\n",
    "top10"
   ]
  },
  {
   "cell_type": "code",
   "execution_count": 38,
   "metadata": {
    "collapsed": false
   },
   "outputs": [
    {
     "data": {
      "image/png": "[encoded data removed]"
     },
     "metadata": {},
     "output_type": "display_data"
    }
   ],
   "source": [
    "par(mar = rep(4, 4))\n",
    "y <- lineData <- top10$cum_lift;\n",
    "x <- barplot(top10$cum_churners, \n",
    "             axes = FALSE,\n",
    "             col = \"blue\", \n",
    "             ylim = c(0, max(top10$cum_churners)) )[, 1]\n",
    "axis(1, at = x, labels = c(1:10), font=2)\n",
    "axis(4, at = seq(0, 6000, 500), font=2)\n",
    "par(new = TRUE)\n",
    "plot(x = x, y = y, type = \"l\", col = \"red\", lwd=2, axes = FALSE, xlab = \"\", ylab = \"\", ylim=c(0,10))\n",
    "axis(2, at = c(0:10), las = 2, font=2) \n",
    "title(main=\"Bob Lift Chart\", mgp=c(2,1,0),cex.lab=2)\n",
    "title(ylab=\"Cumulative Lift\", mgp=c(2.5,1,0),cex.lab=1.2)\n",
    "title(xlab=\"Percentile\", mgp=c(2.5,1,0),cex.lab=1.2)\n",
    "mtext(text=\"Cumulative Churners\", side = 4, line = 2.5,cex=1.2)"
   ]
  },
  {
   "cell_type": "markdown",
   "metadata": {},
   "source": [
    "## Top 20 Variables"
   ]
  },
  {
   "cell_type": "code",
   "execution_count": 39,
   "metadata": {
    "collapsed": false
   },
   "outputs": [
    {
     "data": {
      "image/png": "[encoded data removed]"
     },
     "metadata": {},
     "output_type": "display_data"
    }
   ],
   "source": [
    "options(repr.plot.width=8, repr.plot.height=7)\n",
    "varImpPlot(bob_churn.rf,main=\"Top 20 Variables\")\n",
    "options(repr.plot.width=6, repr.plot.height=5)"
   ]
  },
  {
   "cell_type": "markdown",
   "metadata": {},
   "source": [
    "## Price Plan Distribution"
   ]
  },
  {
   "cell_type": "code",
   "execution_count": 79,
   "metadata": {
    "collapsed": false
   },
   "outputs": [
    {
     "data": {
      "text/html": [
       "<table>\n",
       "<thead><tr><th scope=col>price_plan_txt</th><th scope=col>count</th><th scope=col>churn_rate</th></tr></thead>\n",
       "<tbody>\n",
       "\t<tr><td>bob tÃ¼rkei           </td><td>  1490                </td><td>0.069798658           </td></tr>\n",
       "\t<tr><td>bob deutschland       </td><td>  3848                </td><td>0.047037422           </td></tr>\n",
       "\t<tr><td>bob Deutschland       </td><td>  2366                </td><td>0.046491970           </td></tr>\n",
       "\t<tr><td>bob balkan            </td><td>  1887                </td><td>0.046104928           </td></tr>\n",
       "\t<tr><td>superbob LTE          </td><td> 29083                </td><td>0.041329987           </td></tr>\n",
       "\t<tr><td>smartbob XL           </td><td>  3809                </td><td>0.041218167           </td></tr>\n",
       "\t<tr><td>big bob               </td><td> 87472                </td><td>0.040310042           </td></tr>\n",
       "\t<tr><td>smartbob XL 19,90 2013</td><td>  2366                </td><td>0.040152156           </td></tr>\n",
       "\t<tr><td>smartbob XL 9,90      </td><td> 42232                </td><td>0.040040727           </td></tr>\n",
       "\t<tr><td>smartbob              </td><td> 27684                </td><td>0.039914752           </td></tr>\n",
       "\t<tr><td>bob vierneuner        </td><td>  2594                </td><td>0.034695451           </td></tr>\n",
       "\t<tr><td>superbob              </td><td> 60670                </td><td>0.031333443           </td></tr>\n",
       "\t<tr><td>topbob                </td><td>  1414                </td><td>0.024752475           </td></tr>\n",
       "\t<tr><td>smartbob XL promo     </td><td>  1824                </td><td>0.024122807           </td></tr>\n",
       "\t<tr><td>smartbob 5000         </td><td>  4733                </td><td>0.019015424           </td></tr>\n",
       "\t<tr><td>bob vierer            </td><td>238028                </td><td>0.009217403           </td></tr>\n",
       "\t<tr><td>minibob promo         </td><td>  2203                </td><td>0.007716750           </td></tr>\n",
       "\t<tr><td>bob siebener          </td><td> 37509                </td><td>0.003999040           </td></tr>\n",
       "</tbody>\n",
       "</table>\n"
      ],
      "text/latex": [
       "\\begin{tabular}{r|lll}\n",
       " price\\_plan\\_txt & count & churn\\_rate\\\\\n",
       "\\hline\n",
       "\t bob tÃ¼rkei            &   1490                 & 0.069798658           \\\\\n",
       "\t bob deutschland        &   3848                 & 0.047037422           \\\\\n",
       "\t bob Deutschland        &   2366                 & 0.046491970           \\\\\n",
       "\t bob balkan             &   1887                 & 0.046104928           \\\\\n",
       "\t superbob LTE           &  29083                 & 0.041329987           \\\\\n",
       "\t smartbob XL            &   3809                 & 0.041218167           \\\\\n",
       "\t big bob                &  87472                 & 0.040310042           \\\\\n",
       "\t smartbob XL 19,90 2013 &   2366                 & 0.040152156           \\\\\n",
       "\t smartbob XL 9,90       &  42232                 & 0.040040727           \\\\\n",
       "\t smartbob               &  27684                 & 0.039914752           \\\\\n",
       "\t bob vierneuner         &   2594                 & 0.034695451           \\\\\n",
       "\t superbob               &  60670                 & 0.031333443           \\\\\n",
       "\t topbob                 &   1414                 & 0.024752475           \\\\\n",
       "\t smartbob XL promo      &   1824                 & 0.024122807           \\\\\n",
       "\t smartbob 5000          &   4733                 & 0.019015424           \\\\\n",
       "\t bob vierer             & 238028                 & 0.009217403           \\\\\n",
       "\t minibob promo          &   2203                 & 0.007716750           \\\\\n",
       "\t bob siebener           &  37509                 & 0.003999040           \\\\\n",
       "\\end{tabular}\n"
      ],
      "text/markdown": [
       "\n",
       "price_plan_txt | count | churn_rate | \n",
       "|---|---|---|---|---|---|---|---|---|---|---|---|---|---|---|---|---|---|\n",
       "| bob tÃ¼rkei            |   1490                 | 0.069798658            | \n",
       "| bob deutschland        |   3848                 | 0.047037422            | \n",
       "| bob Deutschland        |   2366                 | 0.046491970            | \n",
       "| bob balkan             |   1887                 | 0.046104928            | \n",
       "| superbob LTE           |  29083                 | 0.041329987            | \n",
       "| smartbob XL            |   3809                 | 0.041218167            | \n",
       "| big bob                |  87472                 | 0.040310042            | \n",
       "| smartbob XL 19,90 2013 |   2366                 | 0.040152156            | \n",
       "| smartbob XL 9,90       |  42232                 | 0.040040727            | \n",
       "| smartbob               |  27684                 | 0.039914752            | \n",
       "| bob vierneuner         |   2594                 | 0.034695451            | \n",
       "| superbob               |  60670                 | 0.031333443            | \n",
       "| topbob                 |   1414                 | 0.024752475            | \n",
       "| smartbob XL promo      |   1824                 | 0.024122807            | \n",
       "| smartbob 5000          |   4733                 | 0.019015424            | \n",
       "| bob vierer             | 238028                 | 0.009217403            | \n",
       "| minibob promo          |   2203                 | 0.007716750            | \n",
       "| bob siebener           |  37509                 | 0.003999040            | \n",
       "\n",
       "\n"
      ],
      "text/plain": [
       "   price_plan_txt         count  churn_rate \n",
       "1  bob tÃ¼rkei              1490 0.069798658\n",
       "2  bob deutschland          3848 0.047037422\n",
       "3  bob Deutschland          2366 0.046491970\n",
       "4  bob balkan               1887 0.046104928\n",
       "5  superbob LTE            29083 0.041329987\n",
       "6  smartbob XL              3809 0.041218167\n",
       "7  big bob                 87472 0.040310042\n",
       "8  smartbob XL 19,90 2013   2366 0.040152156\n",
       "9  smartbob XL 9,90        42232 0.040040727\n",
       "10 smartbob                27684 0.039914752\n",
       "11 bob vierneuner           2594 0.034695451\n",
       "12 superbob                60670 0.031333443\n",
       "13 topbob                   1414 0.024752475\n",
       "14 smartbob XL promo        1824 0.024122807\n",
       "15 smartbob 5000            4733 0.019015424\n",
       "16 bob vierer             238028 0.009217403\n",
       "17 minibob promo            2203 0.007716750\n",
       "18 bob siebener            37509 0.003999040"
      ]
     },
     "metadata": {},
     "output_type": "display_data"
    }
   ],
   "source": [
    "price_plan_splt <- prediction[,.(count=.N, churn_rate = mean(as.numeric(as.character(target_ind)))),by=price_plan_txt][order(-churn_rate)]\n",
    "price_plan_splt"
   ]
  },
  {
   "cell_type": "code",
   "execution_count": 81,
   "metadata": {
    "collapsed": false
   },
   "outputs": [
    {
     "data": {
      "text/html": [
       "<table>\n",
       "<thead><tr><th scope=col>t_bobtarife_pay_per_use</th><th scope=col>count</th><th scope=col>churn_rate</th></tr></thead>\n",
       "<tbody>\n",
       "\t<tr><td>0          </td><td>273472     </td><td>0.038095308</td></tr>\n",
       "\t<tr><td>1          </td><td>277740     </td><td>0.008500756</td></tr>\n",
       "</tbody>\n",
       "</table>\n"
      ],
      "text/latex": [
       "\\begin{tabular}{r|lll}\n",
       " t\\_bobtarife\\_pay\\_per\\_use & count & churn\\_rate\\\\\n",
       "\\hline\n",
       "\t 0           & 273472      & 0.038095308\\\\\n",
       "\t 1           & 277740      & 0.008500756\\\\\n",
       "\\end{tabular}\n"
      ],
      "text/markdown": [
       "\n",
       "t_bobtarife_pay_per_use | count | churn_rate | \n",
       "|---|---|\n",
       "| 0           | 273472      | 0.038095308 | \n",
       "| 1           | 277740      | 0.008500756 | \n",
       "\n",
       "\n"
      ],
      "text/plain": [
       "  t_bobtarife_pay_per_use count  churn_rate \n",
       "1 0                       273472 0.038095308\n",
       "2 1                       277740 0.008500756"
      ]
     },
     "metadata": {},
     "output_type": "display_data"
    }
   ],
   "source": [
    "prediction[,.(count=.N, churn_rate = mean(as.numeric(as.character(target_ind)))),by=t_bobtarife_pay_per_use]"
   ]
  },
  {
   "cell_type": "code",
   "execution_count": null,
   "metadata": {
    "collapsed": true
   },
   "outputs": [],
   "source": []
  }
 ],
 "metadata": {
  "kernelspec": {
   "display_name": "R",
   "language": "R",
   "name": "ir"
  },
  "language_info": {
   "codemirror_mode": "r",
   "file_extension": ".r",
   "mimetype": "text/x-r-source",
   "name": "R",
   "pygments_lexer": "r",
   "version": "3.3.3"
  }
 },
 "nbformat": 4,
 "nbformat_minor": 2
}
